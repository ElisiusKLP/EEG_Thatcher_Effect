{
 "cells": [
  {
   "attachments": {},
   "cell_type": "markdown",
   "metadata": {},
   "source": [
    "# croppping data"
   ]
  },
  {
   "cell_type": "code",
   "execution_count": 2,
   "metadata": {},
   "outputs": [
    {
     "name": "stdout",
     "output_type": "stream",
     "text": [
      "[0.15 0.2 ]\n"
     ]
    }
   ],
   "source": [
    "import numpy as np\n",
    "times = np.arange(0.15,0.2,0.05)\n",
    "print(times)"
   ]
  },
  {
   "cell_type": "code",
   "execution_count": null,
   "metadata": {},
   "outputs": [],
   "source": [
    "ch_names = ['Fp1', 'Fp2', 'F7', 'F3', 'Fz', 'F4', 'F8', 'FC5', 'FC1', 'FC2', 'FC6', 'T7', 'C3', 'Cz', 'C4', 'T8', 'TP9', 'CP5', 'CP1', 'CP2', 'CP6', 'TP10', 'P7', 'P3', 'Pz', 'P4', 'P8', 'EOG1', 'O1', 'Oz', 'O2', 'EOG2']\n",
    "\n",
    "picks = ['TP9', 'TP10','P7', \"P8\", \"O1\", \"O2\"]\n",
    "\n",
    "mask1 = []\n",
    "for i in ch_names:\n",
    "    if i in picks:\n",
    "        mask1.append(True)\n",
    "    else:\n",
    "        mask1.append(False)\n",
    "\n",
    "mask1 = np.array(mask1, dtype=bool )\n",
    "\n",
    "len(mask1)\n",
    "type(mask1)"
   ]
  },
  {
   "cell_type": "code",
   "execution_count": null,
   "metadata": {},
   "outputs": [],
   "source": [
    "# extracting the data for the N170 component\n",
    "start_time = 0.15  # Start time of the time window in seconds (150 ms)\n",
    "end_time = 0.2  # End time of the time window in seconds (200 ms)\n",
    "\n",
    "\n",
    "N170_epochs = epochs.copy().crop(tmin=start_time, tmax=end_time)\n",
    "\n",
    "type(N170_epochs)\n",
    "\n",
    "# NOT evoked variabled \n",
    "N170_all_changed = N170_epochs['Changed']\n",
    "N170_all_unchanged = N170_epochs['Unchanged']\n",
    "\n",
    "# Evoked variables\n",
    "## Changed vs unchaged\n",
    "N170_all_changed_evoked = N170_epochs['Changed'].average()\n",
    "N170_all_unchanged_evoked = N170_epochs['Unchanged'].average()\n",
    "\n",
    "# INTERACTIONS\n",
    "# Changed vs Unchanged X Inversion effect\n",
    "## creating for changed vs unchanged for each rotation\n",
    "N170_changed_0 = N170_epochs['Changed/0'].average()\n",
    "N170_changed_90 = N170_epochs['Changed/90'].average()\n",
    "N170_changed_180 = N170_epochs['Changed/180'].average()\n",
    "\n",
    "N170_unchanged_0 = N170_epochs['Unchanged/0'].average()\n",
    "N170_unchanged_90 = N170_epochs['Unchanged/90'].average()\n",
    "N170_unchanged_180 = N170_epochs['Unchanged/180'].average()\n",
    "\n",
    "# Familiar vs Unfamiliar X Changed vs Unchanged X Inversion effect\n",
    "## creating for famiar vs unfamiliar interacting with inverse effect\n",
    "\n",
    "## Familiar\n",
    "N170_changed_0_familiar = N170_epochs['Changed/0/Familliar'].average()\n",
    "N170_changed_90_familiar = N170_epochs['Changed/90/Familliar'].average()\n",
    "N170_changed_180_familiar = N170_epochs['Changed/180/Familliar'].average()\n",
    "\n",
    "N170_unchanged_0_familiar = N170_epochs['Unchanged/0/Familliar'].average()\n",
    "N170_unchanged_90_familiar = N170_epochs['Unchanged/90/Familliar'].average()\n",
    "N170_unchanged_180_familiar = N170_epochs['Unchanged/180/Familliar'].average()\n",
    "\n",
    "## Unfamiliar\n",
    "N170_changed_0_unfamiliar = N170_epochs['Changed/0/Unfamilliar'].average()\n",
    "N170_changed_90_unfamiliar = N170_epochs['Changed/90/Unfamilliar'].average()\n",
    "N170_changed_180_unfamiliar = N170_epochs['Changed/180/Unfamilliar'].average()\n",
    "\n",
    "N170_unchanged_0_unfamiliar = N170_epochs['Unchanged/0/Unfamilliar'].average()\n",
    "N170_unchanged_90_unfamiliar = N170_epochs['Unchanged/90/Unfamilliar'].average()\n",
    "N170_unchanged_180_unfamiliar = N170_epochs['Unchanged/180/Unfamilliar'].average()\n",
    "\n",
    "all_c"
   ]
  }
 ],
 "metadata": {
  "kernelspec": {
   "display_name": "Python 3",
   "language": "python",
   "name": "python3"
  },
  "language_info": {
   "codemirror_mode": {
    "name": "ipython",
    "version": 3
   },
   "file_extension": ".py",
   "mimetype": "text/x-python",
   "name": "python",
   "nbconvert_exporter": "python",
   "pygments_lexer": "ipython3",
   "version": "3.9.12"
  },
  "orig_nbformat": 4
 },
 "nbformat": 4,
 "nbformat_minor": 2
}
