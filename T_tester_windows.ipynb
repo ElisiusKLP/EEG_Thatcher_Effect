{
 "cells": [
  {
   "cell_type": "code",
   "execution_count": 1,
   "id": "c0c0251c",
   "metadata": {},
   "outputs": [],
   "source": [
    "# Installing packages in the notebook for conda if needed\n",
    "# %pip install mne\n",
    "# %pip install statsmodels\n",
    "# %pip install scikit-learn\n",
    "# %pip install researchpy\n",
    "# "
   ]
  },
  {
   "cell_type": "code",
   "execution_count": 2,
   "id": "0dd04b3f-669e-4136-98c2-61dfbfa2f440",
   "metadata": {
    "execution": {
     "iopub.execute_input": "2022-05-16T07:55:51.349992Z",
     "iopub.status.busy": "2022-05-16T07:55:51.349482Z",
     "iopub.status.idle": "2022-05-16T07:55:58.748668Z",
     "shell.execute_reply": "2022-05-16T07:55:58.746998Z",
     "shell.execute_reply.started": "2022-05-16T07:55:51.349936Z"
    },
    "tags": []
   },
   "outputs": [],
   "source": [
    "# importing modules\n",
    "import os\n",
    "import pip\n",
    "import numpy as np\n",
    "import pandas as pd\n",
    "import mne\n",
    "from scipy import stats as st\n",
    "import statistics as stats\n",
    "from itertools import combinations\n",
    "import researchpy as rp\n",
    "from statsmodels.stats.multitest import multipletests as multi"
   ]
  },
  {
   "cell_type": "code",
   "execution_count": 3,
   "id": "9a4e6550-4f7b-4253-b643-674f474aa54a",
   "metadata": {
    "execution": {
     "iopub.execute_input": "2022-05-16T07:31:18.272729Z",
     "iopub.status.busy": "2022-05-16T07:31:18.272338Z",
     "iopub.status.idle": "2022-05-16T07:31:18.350494Z",
     "shell.execute_reply": "2022-05-16T07:31:18.349927Z",
     "shell.execute_reply.started": "2022-05-16T07:31:18.272691Z"
    },
    "tags": []
   },
   "outputs": [
    {
     "name": "stdout",
     "output_type": "stream",
     "text": [
      "Reading c:\\Users\\lauri\\OneDrive - Aarhus universitet\\Dokumenter\\EEG_Thatcher_Effect\\data\\Epochs\\thatcher_epochs.fif ...\n",
      "    Found the data of interest:\n",
      "        t =    -100.00 ...     696.00 ms\n",
      "        0 CTF compensation matrices available\n",
      "Not setting metadata\n",
      "358 matching events found\n",
      "No baseline correction applied\n",
      "0 projection items activated\n"
     ]
    },
    {
     "name": "stderr",
     "output_type": "stream",
     "text": [
      "C:\\Users\\lauri\\AppData\\Local\\Temp\\ipykernel_20676\\2480100391.py:1: RuntimeWarning: This filename (./data/Epochs/thatcher_epochs.fif) does not conform to MNE naming conventions. All epochs files should end with -epo.fif, -epo.fif.gz, _epo.fif or _epo.fif.gz\n",
      "  epochs = mne.read_epochs('./data/Epochs/thatcher_epochs.fif')\n"
     ]
    }
   ],
   "source": [
    "epochs = mne.read_epochs('./data/Epochs/thatcher_epochs.fif')"
   ]
  },
  {
   "cell_type": "code",
   "execution_count": 4,
   "id": "9f87976b-9e00-40f0-abe8-05f4a1754265",
   "metadata": {
    "execution": {
     "iopub.execute_input": "2022-05-16T07:31:18.351811Z",
     "iopub.status.busy": "2022-05-16T07:31:18.351656Z",
     "iopub.status.idle": "2022-05-16T07:31:18.396032Z",
     "shell.execute_reply": "2022-05-16T07:31:18.395448Z",
     "shell.execute_reply.started": "2022-05-16T07:31:18.351792Z"
    },
    "tags": []
   },
   "outputs": [],
   "source": [
    "# NOT evoked variabled \n",
    "all_changed = epochs['Changed']\n",
    "all_unchanged = epochs['Unchanged']\n",
    "\n",
    "# Not evoked Interactions\n",
    "changed_0 = epochs['Changed/0']\n",
    "changed_90 = epochs['Changed/90']\n",
    "changed_180 = epochs['Changed/180']\n",
    "\n",
    "unchanged_0 = epochs['Unchanged/0']\n",
    "unchanged_90 = epochs['Unchanged/90']\n",
    "unchanged_180 = epochs['Unchanged/180']\n",
    "\n",
    "\n",
    "\n",
    "# Rotation Epochs:\n",
    "# Not evoked Interactions\n",
    "epoch_0 = epochs['0']\n",
    "epoch_90 = epochs['90']\n",
    "epoch_180 = epochs['180']\n",
    "\n",
    "\n",
    "\n",
    "\n",
    "# Evoked variables\n",
    "## Changed vs unchaged\n",
    "all_changed_evoked = epochs['Changed'].average()\n",
    "all_unchanged_evoked = epochs['Unchanged'].average()\n",
    "\n",
    "# INTERACTIONS\n",
    "# Changed vs Unchanged X Inversion effect\n",
    "## creating for changed vs unchanged for each rotation\n",
    "# changed_0 = epochs['Changed/0'].average()\n",
    "# changed_90 = epochs['Changed/90'].average()\n",
    "# changed_180 = epochs['Changed/180'].average()\n",
    "\n",
    "# unchanged_0 = epochs['Unchanged/0'].average()\n",
    "# unchanged_90 = epochs['Unchanged/90'].average()\n",
    "# unchanged_180 = epochs['Unchanged/180'].average()\n",
    "\n",
    "# Familiar vs Unfamiliar X Changed vs Unchanged X Inversion effect\n",
    "## creating for famiar vs unfamiliar interacting with inverse effect\n",
    "\n",
    "# ## Familiar\n",
    "# changed_0_familiar = epochs['Changed/0/Familliar'].average()\n",
    "# changed_90_familiar = epochs['Changed/90/Familliar'].average()\n",
    "# changed_180_familiar = epochs['Changed/180/Familliar'].average()\n",
    "\n",
    "# unchanged_0_familiar = epochs['Unchanged/0/Familliar'].average()\n",
    "# unchanged_90_familiar = epochs['Unchanged/90/Familliar'].average()\n",
    "# unchanged_180_familiar = epochs['Unchanged/180/Familliar'].average()\n",
    "\n",
    "# ## Unfamiliar\n",
    "# changed_0_unfamiliar = epochs['Changed/0/Unfamilliar'].average()\n",
    "# changed_90_unfamiliar = epochs['Changed/90/Unfamilliar'].average()\n",
    "# changed_180_unfamiliar = epochs['Changed/180/Unfamilliar'].average()\n",
    "\n",
    "# unchanged_0_unfamiliar = epochs['Unchanged/0/Unfamilliar'].average()\n",
    "# unchanged_90_unfamiliar = epochs['Unchanged/90/Unfamilliar'].average()\n",
    "# unchanged_180_unfamiliar = epochs['Unchanged/180/Unfamilliar'].average()"
   ]
  },
  {
   "attachments": {},
   "cell_type": "markdown",
   "id": "3703898a-225f-4ac1-8adb-803c8f9f7533",
   "metadata": {},
   "source": [
    "# Windowed mean\n",
    "One of the simplest way in which we can determine whether the signal in our two conditions are statistically significant is by:\n",
    "\n",
    "Segmenting our data using only certain channels in a specific time window. Keep in mind that which time window and channels should be established a priori, for instance according to the literature.\n",
    "Taking the mean of that window across channels and and samples.\n",
    "Running statistical tests on the windowed means from the two conditions.\n",
    "In an experiment with multiple participants we would also average over trials from individual participants, in order to only have one data point per participant (and thereby avoid multiple comparisons). However, since we have one participant, we can keep one dimension of the individual data, i.e. the trials.\n",
    "\n",
    "## T-test\n",
    "We can now do a t-test on the trials from the two conditions, to establish whether the means of the two groups are statistically significant.\n",
    "\n",
    "We can use the get_data() function to get the numerical values of the signal (in microvolts) for the t-test. tmin and tmax are used to define the size of the window, and the picks are the channels that we expect to see an effect in.\n",
    "\n",
    "\n",
    "## Create ANOVA Test Function"
   ]
  },
  {
   "cell_type": "code",
   "execution_count": 5,
   "id": "65e1d763-eba0-409c-9aaa-5f0dc39c3105",
   "metadata": {
    "execution": {
     "iopub.execute_input": "2022-05-16T07:31:23.918224Z",
     "iopub.status.busy": "2022-05-16T07:31:23.917543Z",
     "iopub.status.idle": "2022-05-16T07:31:26.895619Z",
     "shell.execute_reply": "2022-05-16T07:31:26.894080Z",
     "shell.execute_reply.started": "2022-05-16T07:31:23.918166Z"
    },
    "tags": []
   },
   "outputs": [],
   "source": [
    "from bioinfokit.analys import stat\n",
    "def Anova_Epochs(Epoch_Condition, tmin, tmax, channels):\n",
    "    n_conditions = range(len(Epoch_Condition))\n",
    "    data = []\n",
    "    for i in n_conditions:\n",
    "        data.append(Epoch_Condition[i].get_data(picks=channels, tmin=tmin, tmax=tmax))\n",
    "    \n",
    "    means = []\n",
    "    for i in n_conditions:\n",
    "        mean_temp = np.mean(data[i], axis=2)\n",
    "        means.append(np.mean(mean_temp, axis=1))\n",
    "    \n",
    "    res = stat()\n",
    "    return st.f_oneway(*means)"
   ]
  },
  {
   "attachments": {},
   "cell_type": "markdown",
   "id": "7fd8815d",
   "metadata": {},
   "source": [
    "# N170\n",
    "## 'P3', 'P7', \"P4\", \"P8\", \"O1\", \"Oz\", \"O2\""
   ]
  },
  {
   "cell_type": "code",
   "execution_count": 6,
   "id": "ed5ffcf8",
   "metadata": {},
   "outputs": [
    {
     "name": "stdout",
     "output_type": "stream",
     "text": [
      "F_onewayResult(statistic=2.1727087727850023, pvalue=0.14588584520515363)\n"
     ]
    },
    {
     "name": "stderr",
     "output_type": "stream",
     "text": [
      "C:\\Users\\lauri\\AppData\\Local\\Temp\\ipykernel_20676\\3370433452.py:6: RuntimeWarning: Channel(s) ['P9', 'P10'] could not be picked, because they are not present in the info instance.\n",
      "  data.append(Epoch_Condition[i].get_data(picks=channels, tmin=tmin, tmax=tmax))\n",
      "C:\\Users\\lauri\\AppData\\Local\\Temp\\ipykernel_20676\\3370433452.py:6: RuntimeWarning: Channel(s) ['P9', 'P10'] could not be picked, because they are not present in the info instance.\n",
      "  data.append(Epoch_Condition[i].get_data(picks=channels, tmin=tmin, tmax=tmax))\n"
     ]
    }
   ],
   "source": [
    "print(Anova_Epochs(Epoch_Condition = [changed_180, unchanged_180], \n",
    "             tmin = .160, \n",
    "             tmax = .180,\n",
    "             channels = [\"P7\", \"P8\", \"TP9\", \"TP10\", \"P9\", \"P10\"]))### Default Threshold "
   ]
  },
  {
   "cell_type": "code",
   "execution_count": 7,
   "id": "4e3107f5-3ba3-486c-b682-ce730dec5a51",
   "metadata": {
    "execution": {
     "iopub.execute_input": "2022-05-16T07:31:27.033220Z",
     "iopub.status.busy": "2022-05-16T07:31:27.033098Z",
     "iopub.status.idle": "2022-05-16T07:31:27.037723Z",
     "shell.execute_reply": "2022-05-16T07:31:27.037132Z",
     "shell.execute_reply.started": "2022-05-16T07:31:27.033205Z"
    },
    "tags": []
   },
   "outputs": [
    {
     "name": "stdout",
     "output_type": "stream",
     "text": [
      "F_onewayResult(statistic=1.0793747198866743, pvalue=0.3031493051450015)\n"
     ]
    },
    {
     "name": "stderr",
     "output_type": "stream",
     "text": [
      "C:\\Users\\lauri\\AppData\\Local\\Temp\\ipykernel_20676\\3370433452.py:6: RuntimeWarning: Channel(s) ['P9', 'P10'] could not be picked, because they are not present in the info instance.\n",
      "  data.append(Epoch_Condition[i].get_data(picks=channels, tmin=tmin, tmax=tmax))\n",
      "C:\\Users\\lauri\\AppData\\Local\\Temp\\ipykernel_20676\\3370433452.py:6: RuntimeWarning: Channel(s) ['P9', 'P10'] could not be picked, because they are not present in the info instance.\n",
      "  data.append(Epoch_Condition[i].get_data(picks=channels, tmin=tmin, tmax=tmax))\n"
     ]
    }
   ],
   "source": [
    "print(Anova_Epochs(Epoch_Condition = [changed_0, unchanged_0], \n",
    "             tmin = .160, \n",
    "             tmax = .180,\n",
    "             channels = [\"P7\", \"P8\", \"TP9\", \"TP10\", \"P9\", \"P10\"]))### Default Threshold "
   ]
  },
  {
   "attachments": {},
   "cell_type": "markdown",
   "id": "de3d5264-555b-40da-b8cf-7d45e0927585",
   "metadata": {},
   "source": [
    "## N170\n",
    "\"P7\", \"P8\", \"TP9\", \"TP10\", \"P9\", \"P10\""
   ]
  },
  {
   "attachments": {},
   "cell_type": "markdown",
   "id": "f4b814d0-fae2-4dfb-8232-fd995f1bd46e",
   "metadata": {},
   "source": [
    "### Create T-Test Function"
   ]
  },
  {
   "cell_type": "code",
   "execution_count": 8,
   "id": "7d4758a6-82b2-422a-b4a7-18f2c9f53dc0",
   "metadata": {
    "execution": {
     "iopub.execute_input": "2022-05-11T09:04:22.228448Z",
     "iopub.status.busy": "2022-05-11T09:04:22.227932Z",
     "iopub.status.idle": "2022-05-11T09:04:22.238603Z",
     "shell.execute_reply": "2022-05-11T09:04:22.237802Z",
     "shell.execute_reply.started": "2022-05-11T09:04:22.228396Z"
    },
    "tags": []
   },
   "outputs": [],
   "source": [
    "def Ttest_Epochs(Epoch_Condition, tmin, tmax, channels):\n",
    "    data = []\n",
    "    for i in range(2):\n",
    "        data.append(Epoch_Condition[i].get_data(picks=channels, tmin=tmin, tmax=tmax))\n",
    "    \n",
    "    means = []\n",
    "    for i in range(2):\n",
    "        mean_temp = np.mean(data[i], axis=2)\n",
    "        means.append(np.mean(mean_temp, axis=1))\n",
    "    \n",
    "    return st.ttest_ind(a=means[0], b=means[1])  "
   ]
  },
  {
   "cell_type": "code",
   "execution_count": 9,
   "id": "12591263-1717-4785-af04-3f5a214f696e",
   "metadata": {
    "execution": {
     "iopub.execute_input": "2022-05-11T09:04:49.697735Z",
     "iopub.status.busy": "2022-05-11T09:04:49.697200Z",
     "iopub.status.idle": "2022-05-11T09:04:49.708917Z",
     "shell.execute_reply": "2022-05-11T09:04:49.708045Z",
     "shell.execute_reply.started": "2022-05-11T09:04:49.697683Z"
    },
    "tags": []
   },
   "outputs": [
    {
     "name": "stdout",
     "output_type": "stream",
     "text": [
      "Ttest_indResult(statistic=0.03918748972513657, pvalue=0.9687848247554656)\n"
     ]
    }
   ],
   "source": [
    "print(Ttest_Epochs(Epoch_Condition = [all_changed, all_unchanged], \n",
    "             tmin = .160, \n",
    "             tmax = .180,\n",
    "             channels = [\"P3\", \"P7\", \"P4\", \"P8\", \"O1\", \"Oz\", \"O2\"]))"
   ]
  },
  {
   "attachments": {},
   "cell_type": "markdown",
   "id": "897ea2a5-cac5-433e-b51f-f3a3a9d6b407",
   "metadata": {},
   "source": [
    "### Pairwise T-tests in The Significant Window"
   ]
  },
  {
   "cell_type": "code",
   "execution_count": 10,
   "id": "a59196ef-0280-4a71-b427-eeb2063d2aaa",
   "metadata": {
    "execution": {
     "iopub.execute_input": "2022-05-11T09:08:19.272906Z",
     "iopub.status.busy": "2022-05-11T09:08:19.272369Z",
     "iopub.status.idle": "2022-05-11T09:08:19.288864Z",
     "shell.execute_reply": "2022-05-11T09:08:19.288161Z",
     "shell.execute_reply.started": "2022-05-11T09:08:19.272855Z"
    },
    "tags": []
   },
   "outputs": [],
   "source": [
    "def pairwise_Ttest(Epoch_Condition, tmin, tmax, channels, Epoch_Names):\n",
    "    n_conditions = range(len(Epoch_Condition))\n",
    "    data = []\n",
    "    for i in n_conditions:\n",
    "        data.append(Epoch_Condition[i].get_data(picks=channels, tmin=tmin, tmax=tmax))\n",
    "    \n",
    "    means = []\n",
    "    for i in n_conditions:\n",
    "        mean_temp = np.mean(data[i], axis=2)\n",
    "        means.append(np.mean(mean_temp, axis=1))\n",
    "    \n",
    "    ## create empty lists\n",
    "    pairwise_names = []\n",
    "    pairwise_pval = []\n",
    "    pairwise_tstat = []\n",
    "    \n",
    "    ## make all the combinations\n",
    "    for a, b in combinations(Epoch_Names, 2): \n",
    "        y = f\"{a} vs. {b}\"\n",
    "        pairwise_names.append(y)\n",
    "        \n",
    "    for a, b in combinations(means, 2): # function which make all combinations of 2 means possible\n",
    "        y = st.ttest_ind(a, b)\n",
    "        pairwise_pval.append(y.pvalue)\n",
    "        pairwise_tstat.append(y.statistic)\n",
    "    \n",
    "    \n",
    "    bonferroni = multi(pairwise_pval, alpha=0.05, method='bonferroni', is_sorted=False, returnsorted=False)\n",
    "    \n",
    "    ## create dataframe\n",
    "    data = pd.DataFrame({\"Comparison\":pairwise_names, \"P-Value\":pairwise_pval, \"t-statistic\":pairwise_tstat, \"Bonferroni Adj.\":bonferroni[1]})\n",
    "    \n",
    "    return data\n",
    "    "
   ]
  },
  {
   "cell_type": "code",
   "execution_count": null,
   "id": "d053a4a9-4ab2-4867-8a8c-3429dc419b1b",
   "metadata": {
    "execution": {
     "iopub.execute_input": "2022-05-11T09:09:59.200660Z",
     "iopub.status.busy": "2022-05-11T09:09:59.200130Z",
     "iopub.status.idle": "2022-05-11T09:09:59.219093Z",
     "shell.execute_reply": "2022-05-11T09:09:59.218409Z",
     "shell.execute_reply.started": "2022-05-11T09:09:59.200608Z"
    },
    "tags": []
   },
   "outputs": [
    {
     "data": {
      "text/html": [
       "<div>\n",
       "<style scoped>\n",
       "    .dataframe tbody tr th:only-of-type {\n",
       "        vertical-align: middle;\n",
       "    }\n",
       "\n",
       "    .dataframe tbody tr th {\n",
       "        vertical-align: top;\n",
       "    }\n",
       "\n",
       "    .dataframe thead th {\n",
       "        text-align: right;\n",
       "    }\n",
       "</style>\n",
       "<table border=\"1\" class=\"dataframe\">\n",
       "  <thead>\n",
       "    <tr style=\"text-align: right;\">\n",
       "      <th></th>\n",
       "      <th>Comparison</th>\n",
       "      <th>P-Value</th>\n",
       "      <th>t-statistic</th>\n",
       "      <th>Bonferroni Adj.</th>\n",
       "    </tr>\n",
       "  </thead>\n",
       "  <tbody>\n",
       "    <tr>\n",
       "      <th>0</th>\n",
       "      <td>Normal vs. Ninety</td>\n",
       "      <td>0.814242</td>\n",
       "      <td>0.235483</td>\n",
       "      <td>1.0</td>\n",
       "    </tr>\n",
       "    <tr>\n",
       "      <th>1</th>\n",
       "      <td>Normal vs. Rotated</td>\n",
       "      <td>0.859431</td>\n",
       "      <td>0.177486</td>\n",
       "      <td>1.0</td>\n",
       "    </tr>\n",
       "    <tr>\n",
       "      <th>2</th>\n",
       "      <td>Ninety vs. Rotated</td>\n",
       "      <td>0.978160</td>\n",
       "      <td>-0.027433</td>\n",
       "      <td>1.0</td>\n",
       "    </tr>\n",
       "  </tbody>\n",
       "</table>\n",
       "</div>"
      ],
      "text/plain": [
       "           Comparison   P-Value  t-statistic  Bonferroni Adj.\n",
       "0   Normal vs. Ninety  0.814242     0.235483              1.0\n",
       "1  Normal vs. Rotated  0.859431     0.177486              1.0\n",
       "2  Ninety vs. Rotated  0.978160    -0.027433              1.0"
      ]
     },
     "execution_count": 78,
     "metadata": {},
     "output_type": "execute_result"
    }
   ],
   "source": [
    "## N170\n",
    "pairwise = pairwise_Ttest(Epoch_Condition = [epoch_0, epoch_90, epoch_180], \n",
    "             tmin = .160, \n",
    "             tmax = .180,\n",
    "             channels = [\"P7\", \"P8\", \"TP9\", \"TP10\", \"P9\", \"P10\"],\n",
    "             Epoch_Names = [\"Normal\", \"Ninety\", \"Rotated\"]\n",
    "              )\n",
    "\n",
    "pairwise"
   ]
  },
  {
   "cell_type": "code",
   "execution_count": null,
   "id": "7e59d551",
   "metadata": {},
   "outputs": [
    {
     "data": {
      "text/html": [
       "<div>\n",
       "<style scoped>\n",
       "    .dataframe tbody tr th:only-of-type {\n",
       "        vertical-align: middle;\n",
       "    }\n",
       "\n",
       "    .dataframe tbody tr th {\n",
       "        vertical-align: top;\n",
       "    }\n",
       "\n",
       "    .dataframe thead th {\n",
       "        text-align: right;\n",
       "    }\n",
       "</style>\n",
       "<table border=\"1\" class=\"dataframe\">\n",
       "  <thead>\n",
       "    <tr style=\"text-align: right;\">\n",
       "      <th></th>\n",
       "      <th>Comparison</th>\n",
       "      <th>P-Value</th>\n",
       "      <th>t-statistic</th>\n",
       "      <th>Bonferroni Adj.</th>\n",
       "    </tr>\n",
       "  </thead>\n",
       "  <tbody>\n",
       "    <tr>\n",
       "      <th>0</th>\n",
       "      <td>Normal vs. Ninety</td>\n",
       "      <td>0.226410</td>\n",
       "      <td>-1.216005</td>\n",
       "      <td>0.679231</td>\n",
       "    </tr>\n",
       "    <tr>\n",
       "      <th>1</th>\n",
       "      <td>Normal vs. Rotated</td>\n",
       "      <td>0.643502</td>\n",
       "      <td>-0.464000</td>\n",
       "      <td>1.000000</td>\n",
       "    </tr>\n",
       "    <tr>\n",
       "      <th>2</th>\n",
       "      <td>Ninety vs. Rotated</td>\n",
       "      <td>0.460567</td>\n",
       "      <td>0.740335</td>\n",
       "      <td>1.000000</td>\n",
       "    </tr>\n",
       "  </tbody>\n",
       "</table>\n",
       "</div>"
      ],
      "text/plain": [
       "           Comparison   P-Value  t-statistic  Bonferroni Adj.\n",
       "0   Normal vs. Ninety  0.226410    -1.216005         0.679231\n",
       "1  Normal vs. Rotated  0.643502    -0.464000         1.000000\n",
       "2  Ninety vs. Rotated  0.460567     0.740335         1.000000"
      ]
     },
     "execution_count": 84,
     "metadata": {},
     "output_type": "execute_result"
    }
   ],
   "source": [
    "## N170\n",
    "pairwise = pairwise_Ttest(Epoch_Condition = [epoch_0, epoch_90, epoch_180], \n",
    "             tmin = .160, \n",
    "             tmax = .180,\n",
    "             channels = [\"P7\", \"P8\", \"TP9\", \"TP10\", \"P9\", \"P10\"],\n",
    "             Epoch_Names = [\"Normal\", \"Ninety\", \"Rotated\"]\n",
    "              )\n",
    "\n",
    "pairwise"
   ]
  }
 ],
 "metadata": {
  "interpreter": {
   "hash": "c30f2af5f468e7f5b45bcc30fca5f4886c90d54777aed916ed5f6294dfb24bf2"
  },
  "kernelspec": {
   "display_name": "Python 3.8.10 ('base')",
   "language": "python",
   "name": "python3"
  },
  "language_info": {
   "codemirror_mode": {
    "name": "ipython",
    "version": 3
   },
   "file_extension": ".py",
   "mimetype": "text/x-python",
   "name": "python",
   "nbconvert_exporter": "python",
   "pygments_lexer": "ipython3",
   "version": "3.10.9"
  }
 },
 "nbformat": 4,
 "nbformat_minor": 5
}
