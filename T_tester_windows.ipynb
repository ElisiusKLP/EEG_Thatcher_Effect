{
 "cells": [
  {
   "cell_type": "code",
   "execution_count": 51,
   "id": "c0c0251c",
   "metadata": {},
   "outputs": [
    {
     "name": "stdout",
     "output_type": "stream",
     "text": [
      "Requirement already satisfied: bioinfokit in /Users/elisius/Library/r-miniconda/lib/python3.9/site-packages (2.1.0)\n",
      "Requirement already satisfied: scipy in /Users/elisius/Library/r-miniconda/lib/python3.9/site-packages (from bioinfokit) (1.10.1)\n",
      "Requirement already satisfied: numpy in /Users/elisius/Library/r-miniconda/lib/python3.9/site-packages (from bioinfokit) (1.24.2)\n",
      "Requirement already satisfied: tabulate in /Users/elisius/Library/r-miniconda/lib/python3.9/site-packages (from bioinfokit) (0.9.0)\n",
      "Requirement already satisfied: scikit-learn in /Users/elisius/Library/r-miniconda/lib/python3.9/site-packages (from bioinfokit) (1.2.2)\n",
      "Requirement already satisfied: matplotlib-venn in /Users/elisius/Library/r-miniconda/lib/python3.9/site-packages (from bioinfokit) (0.11.9)\n",
      "Requirement already satisfied: adjustText in /Users/elisius/Library/r-miniconda/lib/python3.9/site-packages (from bioinfokit) (0.8)\n",
      "Requirement already satisfied: matplotlib in /Users/elisius/Library/r-miniconda/lib/python3.9/site-packages (from bioinfokit) (3.7.0)\n",
      "Requirement already satisfied: textwrap3 in /Users/elisius/Library/r-miniconda/lib/python3.9/site-packages (from bioinfokit) (0.9.2)\n",
      "Requirement already satisfied: pandas in /Users/elisius/Library/r-miniconda/lib/python3.9/site-packages (from bioinfokit) (1.5.3)\n",
      "Requirement already satisfied: seaborn in /Users/elisius/Library/r-miniconda/lib/python3.9/site-packages (from bioinfokit) (0.12.2)\n",
      "Requirement already satisfied: statsmodels in /Users/elisius/Library/r-miniconda/lib/python3.9/site-packages (from bioinfokit) (0.14.0)\n",
      "Requirement already satisfied: fonttools>=4.22.0 in /Users/elisius/Library/r-miniconda/lib/python3.9/site-packages (from matplotlib->bioinfokit) (4.38.0)\n",
      "Requirement already satisfied: contourpy>=1.0.1 in /Users/elisius/Library/r-miniconda/lib/python3.9/site-packages (from matplotlib->bioinfokit) (1.0.7)\n",
      "Requirement already satisfied: cycler>=0.10 in /Users/elisius/Library/r-miniconda/lib/python3.9/site-packages (from matplotlib->bioinfokit) (0.11.0)\n",
      "Requirement already satisfied: kiwisolver>=1.0.1 in /Users/elisius/Library/r-miniconda/lib/python3.9/site-packages (from matplotlib->bioinfokit) (1.4.4)\n",
      "Requirement already satisfied: pillow>=6.2.0 in /Users/elisius/Library/r-miniconda/lib/python3.9/site-packages (from matplotlib->bioinfokit) (9.4.0)\n",
      "Requirement already satisfied: pyparsing>=2.3.1 in /Users/elisius/Library/r-miniconda/lib/python3.9/site-packages (from matplotlib->bioinfokit) (3.0.9)\n",
      "Requirement already satisfied: python-dateutil>=2.7 in /Users/elisius/Library/r-miniconda/lib/python3.9/site-packages (from matplotlib->bioinfokit) (2.8.2)\n",
      "Requirement already satisfied: packaging>=20.0 in /Users/elisius/Library/r-miniconda/lib/python3.9/site-packages (from matplotlib->bioinfokit) (23.0)\n",
      "Requirement already satisfied: importlib-resources>=3.2.0 in /Users/elisius/Library/r-miniconda/lib/python3.9/site-packages (from matplotlib->bioinfokit) (5.12.0)\n",
      "Requirement already satisfied: pytz>=2020.1 in /Users/elisius/Library/r-miniconda/lib/python3.9/site-packages (from pandas->bioinfokit) (2022.7.1)\n",
      "Requirement already satisfied: joblib>=1.1.1 in /Users/elisius/Library/r-miniconda/lib/python3.9/site-packages (from scikit-learn->bioinfokit) (1.2.0)\n",
      "Requirement already satisfied: threadpoolctl>=2.0.0 in /Users/elisius/Library/r-miniconda/lib/python3.9/site-packages (from scikit-learn->bioinfokit) (3.1.0)\n",
      "Requirement already satisfied: patsy>=0.5.2 in /Users/elisius/Library/r-miniconda/lib/python3.9/site-packages (from statsmodels->bioinfokit) (0.5.3)\n",
      "Requirement already satisfied: zipp>=3.1.0 in /Users/elisius/Library/r-miniconda/lib/python3.9/site-packages (from importlib-resources>=3.2.0->matplotlib->bioinfokit) (3.14.0)\n",
      "Requirement already satisfied: six in /Users/elisius/Library/r-miniconda/lib/python3.9/site-packages (from patsy>=0.5.2->statsmodels->bioinfokit) (1.16.0)\n",
      "Note: you may need to restart the kernel to use updated packages.\n"
     ]
    }
   ],
   "source": [
    "# Installing packages in the notebook for conda if needed\n",
    "#%pip install mne\n",
    "#%pip install statsmodels\n",
    "#%pip install scikit-learn\n",
    "#%pip install researchpy\n",
    "%pip install bioinfokit\n",
    "# "
   ]
  },
  {
   "cell_type": "code",
   "execution_count": 52,
   "id": "0dd04b3f-669e-4136-98c2-61dfbfa2f440",
   "metadata": {
    "execution": {
     "iopub.execute_input": "2022-05-16T07:55:51.349992Z",
     "iopub.status.busy": "2022-05-16T07:55:51.349482Z",
     "iopub.status.idle": "2022-05-16T07:55:58.748668Z",
     "shell.execute_reply": "2022-05-16T07:55:58.746998Z",
     "shell.execute_reply.started": "2022-05-16T07:55:51.349936Z"
    },
    "tags": []
   },
   "outputs": [],
   "source": [
    "# importing modules\n",
    "import os\n",
    "import pip\n",
    "import numpy as np\n",
    "import pandas as pd\n",
    "import mne\n",
    "from scipy import stats as st\n",
    "import statistics as stats\n",
    "from itertools import combinations\n",
    "import researchpy as rp\n",
    "from statsmodels.stats.multitest import multipletests as multi\n",
    "from bioinfokit.analys import stat\n"
   ]
  },
  {
   "cell_type": "code",
   "execution_count": 53,
   "id": "9a4e6550-4f7b-4253-b643-674f474aa54a",
   "metadata": {
    "execution": {
     "iopub.execute_input": "2022-05-16T07:31:18.272729Z",
     "iopub.status.busy": "2022-05-16T07:31:18.272338Z",
     "iopub.status.idle": "2022-05-16T07:31:18.350494Z",
     "shell.execute_reply": "2022-05-16T07:31:18.349927Z",
     "shell.execute_reply.started": "2022-05-16T07:31:18.272691Z"
    },
    "tags": []
   },
   "outputs": [
    {
     "name": "stdout",
     "output_type": "stream",
     "text": [
      "Reading /Users/elisius/Library/CloudStorage/OneDrive-AarhusUniversitet/4. Semester/EXAM_Neuro/EEG_Thatcher_Effect/data/Epochs/thatcher_epochs.fif ...\n",
      "    Found the data of interest:\n",
      "        t =    -100.00 ...     696.00 ms\n",
      "        0 CTF compensation matrices available\n"
     ]
    },
    {
     "name": "stderr",
     "output_type": "stream",
     "text": [
      "/var/folders/kf/wwp_17qs7v980_90pbjz9b240000gn/T/ipykernel_66823/2480100391.py:1: RuntimeWarning: This filename (./data/Epochs/thatcher_epochs.fif) does not conform to MNE naming conventions. All epochs files should end with -epo.fif, -epo.fif.gz, _epo.fif or _epo.fif.gz\n",
      "  epochs = mne.read_epochs('./data/Epochs/thatcher_epochs.fif')\n"
     ]
    },
    {
     "name": "stdout",
     "output_type": "stream",
     "text": [
      "Not setting metadata\n",
      "358 matching events found\n",
      "No baseline correction applied\n",
      "0 projection items activated\n"
     ]
    }
   ],
   "source": [
    "epochs = mne.read_epochs('./data/Epochs/thatcher_epochs.fif')"
   ]
  },
  {
   "cell_type": "code",
   "execution_count": 54,
   "id": "9f87976b-9e00-40f0-abe8-05f4a1754265",
   "metadata": {
    "execution": {
     "iopub.execute_input": "2022-05-16T07:31:18.351811Z",
     "iopub.status.busy": "2022-05-16T07:31:18.351656Z",
     "iopub.status.idle": "2022-05-16T07:31:18.396032Z",
     "shell.execute_reply": "2022-05-16T07:31:18.395448Z",
     "shell.execute_reply.started": "2022-05-16T07:31:18.351792Z"
    },
    "tags": []
   },
   "outputs": [],
   "source": [
    "# NOT evoked variabled \n",
    "all_changed = epochs['Changed']\n",
    "all_unchanged = epochs['Unchanged']\n",
    "\n",
    "# Not evoked Interactions\n",
    "changed_0 = epochs['Changed/0']\n",
    "changed_90 = epochs['Changed/90']\n",
    "changed_180 = epochs['Changed/180']\n",
    "\n",
    "unchanged_0 = epochs['Unchanged/0']\n",
    "unchanged_90 = epochs['Unchanged/90']\n",
    "unchanged_180 = epochs['Unchanged/180']\n",
    "\n",
    "## familiar and unfamiliar\n",
    "familiar = epochs['Familliar']\n",
    "unfamiliar = epochs['Unfamilliar']\n",
    "\n",
    "# Rotation Epochs:\n",
    "# Not evoked Interactions\n",
    "epoch_0 = epochs['0']\n",
    "epoch_90 = epochs['90']\n",
    "epoch_180 = epochs['180']\n",
    "\n",
    "changed_0_familiar = epochs['Changed/0/Familliar']\n",
    "changed_90_familiar = epochs['Changed/90/Familliar']\n",
    "changed_180_familiar = epochs['Changed/180/Familliar']\n",
    "\n",
    "unchanged_0_familiar = epochs['Unchanged/0/Familliar']\n",
    "unchanged_90_familiar = epochs['Unchanged/90/Familliar']\n",
    "unchanged_180_familiar = epochs['Unchanged/180/Familliar']\n",
    "\n",
    "# ## Unfamiliar\n",
    "changed_0_unfamiliar = epochs['Changed/0/Unfamilliar']\n",
    "changed_90_unfamiliar = epochs['Changed/90/Unfamilliar']\n",
    "changed_180_unfamiliar = epochs['Changed/180/Unfamilliar']\n",
    "\n",
    "unchanged_0_unfamiliar = epochs['Unchanged/0/Unfamilliar']\n",
    "unchanged_90_unfamiliar = epochs['Unchanged/90/Unfamilliar']\n",
    "unchanged_180_unfamiliar = epochs['Unchanged/180/Unfamilliar']\n",
    "\n",
    "\n",
    "\n",
    "\n",
    "# Evoked variables\n",
    "## Changed vs unchaged\n",
    "all_changed_evoked = epochs['Changed'].average()\n",
    "all_unchanged_evoked = epochs['Unchanged'].average()\n",
    "\n",
    "# INTERACTIONS\n",
    "# Changed vs Unchanged X Inversion effect\n",
    "## creating for changed vs unchanged for each rotation\n",
    "# changed_0 = epochs['Changed/0'].average()\n",
    "# changed_90 = epochs['Changed/90'].average()\n",
    "# changed_180 = epochs['Changed/180'].average()\n",
    "\n",
    "# unchanged_0 = epochs['Unchanged/0'].average()\n",
    "# unchanged_90 = epochs['Unchanged/90'].average()\n",
    "# unchanged_180 = epochs['Unchanged/180'].average()\n",
    "\n",
    "# Familiar vs Unfamiliar X Changed vs Unchanged X Inversion effect\n",
    "## creating for famiar vs unfamiliar interacting with inverse effect\n",
    "\n",
    "# ## Familiar\n",
    "# changed_0_familiar = epochs['Changed/0/Familliar'].average()\n",
    "# changed_90_familiar = epochs['Changed/90/Familliar'].average()\n",
    "# changed_180_familiar = epochs['Changed/180/Familliar'].average()\n",
    "\n",
    "# unchanged_0_familiar = epochs['Unchanged/0/Familliar'].average()\n",
    "# unchanged_90_familiar = epochs['Unchanged/90/Familliar'].average()\n",
    "# unchanged_180_familiar = epochs['Unchanged/180/Familliar'].average()\n",
    "\n",
    "# ## Unfamiliar\n",
    "# changed_0_unfamiliar = epochs['Changed/0/Unfamilliar'].average()\n",
    "# changed_90_unfamiliar = epochs['Changed/90/Unfamilliar'].average()\n",
    "# changed_180_unfamiliar = epochs['Changed/180/Unfamilliar'].average()\n",
    "\n",
    "# unchanged_0_unfamiliar = epochs['Unchanged/0/Unfamilliar'].average()\n",
    "# unchanged_90_unfamiliar = epochs['Unchanged/90/Unfamilliar'].average()\n",
    "# unchanged_180_unfamiliar = epochs['Unchanged/180/Unfamilliar'].average()"
   ]
  },
  {
   "attachments": {},
   "cell_type": "markdown",
   "id": "3703898a-225f-4ac1-8adb-803c8f9f7533",
   "metadata": {},
   "source": [
    "# Windowed mean\n",
    "One of the simplest way in which we can determine whether the signal in our two conditions are statistically significant is by:\n",
    "\n",
    "Segmenting our data using only certain channels in a specific time window. Keep in mind that which time window and channels should be established a priori, for instance according to the literature.\n",
    "Taking the mean of that window across channels and and samples.\n",
    "Running statistical tests on the windowed means from the two conditions.\n",
    "In an experiment with multiple participants we would also average over trials from individual participants, in order to only have one data point per participant (and thereby avoid multiple comparisons). However, since we have one participant, we can keep one dimension of the individual data, i.e. the trials.\n",
    "\n",
    "## T-test\n",
    "We can now do a t-test on the trials from the two conditions, to establish whether the means of the two groups are statistically significant.\n",
    "\n",
    "We can use the get_data() function to get the numerical values of the signal (in microvolts) for the t-test. tmin and tmax are used to define the size of the window, and the picks are the channels that we expect to see an effect in.\n",
    "\n",
    "\n",
    "## Create ANOVA Test Function"
   ]
  },
  {
   "cell_type": "code",
   "execution_count": 55,
   "id": "65e1d763-eba0-409c-9aaa-5f0dc39c3105",
   "metadata": {
    "execution": {
     "iopub.execute_input": "2022-05-16T07:31:23.918224Z",
     "iopub.status.busy": "2022-05-16T07:31:23.917543Z",
     "iopub.status.idle": "2022-05-16T07:31:26.895619Z",
     "shell.execute_reply": "2022-05-16T07:31:26.894080Z",
     "shell.execute_reply.started": "2022-05-16T07:31:23.918166Z"
    },
    "tags": []
   },
   "outputs": [],
   "source": [
    "\n",
    "def Anova_Epochs(Epoch_Condition, tmin, tmax, channels):\n",
    "    n_conditions = range(len(Epoch_Condition))\n",
    "    data = []\n",
    "    for i in n_conditions:\n",
    "        data.append(Epoch_Condition[i].get_data(picks=channels, tmin=tmin, tmax=tmax))\n",
    "    \n",
    "    means = []\n",
    "    for i in n_conditions:\n",
    "        mean_temp = np.mean(data[i], axis=2)\n",
    "        means.append(np.mean(mean_temp, axis=1))\n",
    "    \n",
    "    res = stat()\n",
    "    return st.f_oneway(*means)"
   ]
  },
  {
   "attachments": {},
   "cell_type": "markdown",
   "id": "7fd8815d",
   "metadata": {},
   "source": [
    "# N170\n",
    "## 'P7', 'P8', \"TP9\", \"TP10\", \"O1\", \"O2\""
   ]
  },
  {
   "cell_type": "code",
   "execution_count": 56,
   "id": "ed5ffcf8",
   "metadata": {},
   "outputs": [
    {
     "name": "stdout",
     "output_type": "stream",
     "text": [
      "F_onewayResult(statistic=1.746618589914412, pvalue=0.19149185167655294)\n"
     ]
    }
   ],
   "source": [
    "print(Anova_Epochs(Epoch_Condition = [changed_180, unchanged_180], \n",
    "             tmin = .160, \n",
    "             tmax = .180,\n",
    "             channels = ['P7', 'P8', \"TP9\", \"TP10\", \"O1\", \"O2\"]))### Default Threshold "
   ]
  },
  {
   "cell_type": "code",
   "execution_count": 7,
   "id": "4e3107f5-3ba3-486c-b682-ce730dec5a51",
   "metadata": {
    "execution": {
     "iopub.execute_input": "2022-05-16T07:31:27.033220Z",
     "iopub.status.busy": "2022-05-16T07:31:27.033098Z",
     "iopub.status.idle": "2022-05-16T07:31:27.037723Z",
     "shell.execute_reply": "2022-05-16T07:31:27.037132Z",
     "shell.execute_reply.started": "2022-05-16T07:31:27.033205Z"
    },
    "tags": []
   },
   "outputs": [
    {
     "name": "stdout",
     "output_type": "stream",
     "text": [
      "F_onewayResult(statistic=1.0793747198866743, pvalue=0.3031493051450015)\n"
     ]
    },
    {
     "name": "stderr",
     "output_type": "stream",
     "text": [
      "C:\\Users\\lauri\\AppData\\Local\\Temp\\ipykernel_20676\\3370433452.py:6: RuntimeWarning: Channel(s) ['P9', 'P10'] could not be picked, because they are not present in the info instance.\n",
      "  data.append(Epoch_Condition[i].get_data(picks=channels, tmin=tmin, tmax=tmax))\n",
      "C:\\Users\\lauri\\AppData\\Local\\Temp\\ipykernel_20676\\3370433452.py:6: RuntimeWarning: Channel(s) ['P9', 'P10'] could not be picked, because they are not present in the info instance.\n",
      "  data.append(Epoch_Condition[i].get_data(picks=channels, tmin=tmin, tmax=tmax))\n"
     ]
    }
   ],
   "source": [
    "print(Anova_Epochs(Epoch_Condition = [changed_0, unchanged_0], \n",
    "             tmin = .184, \n",
    "             tmax = .200,\n",
    "             channels = ['P7', 'P8', \"TP9\", \"TP10\", \"O1\", \"O2\"]))### Default Threshold "
   ]
  },
  {
   "cell_type": "code",
   "execution_count": 66,
   "id": "80578408",
   "metadata": {},
   "outputs": [
    {
     "name": "stdout",
     "output_type": "stream",
     "text": [
      "F_onewayResult(statistic=1.4704976092717361, pvalue=0.22687415821269516)\n"
     ]
    }
   ],
   "source": [
    "print(Anova_Epochs(Epoch_Condition = [familiar, unfamiliar], \n",
    "             tmin = .184, \n",
    "             tmax = .200,\n",
    "             channels = ['TP9', 'TP10']))### Default Threshold "
   ]
  },
  {
   "attachments": {},
   "cell_type": "markdown",
   "id": "de3d5264-555b-40da-b8cf-7d45e0927585",
   "metadata": {},
   "source": [
    "## N170\n",
    "\"P7\", \"P8\", \"TP9\", \"TP10\", \"P9\", \"P10\""
   ]
  },
  {
   "attachments": {},
   "cell_type": "markdown",
   "id": "f4b814d0-fae2-4dfb-8232-fd995f1bd46e",
   "metadata": {},
   "source": [
    "### Create T-Test Function"
   ]
  },
  {
   "cell_type": "code",
   "execution_count": 18,
   "id": "7d4758a6-82b2-422a-b4a7-18f2c9f53dc0",
   "metadata": {
    "execution": {
     "iopub.execute_input": "2022-05-11T09:04:22.228448Z",
     "iopub.status.busy": "2022-05-11T09:04:22.227932Z",
     "iopub.status.idle": "2022-05-11T09:04:22.238603Z",
     "shell.execute_reply": "2022-05-11T09:04:22.237802Z",
     "shell.execute_reply.started": "2022-05-11T09:04:22.228396Z"
    },
    "tags": []
   },
   "outputs": [],
   "source": [
    "def Ttest_Epochs(Epoch_Condition, tmin, tmax, channels):\n",
    "    data = []\n",
    "    for i in range(2):\n",
    "        data.append(Epoch_Condition[i].get_data(picks=channels, tmin=tmin, tmax=tmax))\n",
    "    \n",
    "    means = []\n",
    "    for i in range(2):\n",
    "        mean_temp = np.mean(data[i], axis=2)\n",
    "        means.append(np.mean(mean_temp, axis=1))\n",
    "    \n",
    "    return st.ttest_ind(a=means[0], b=means[1])  "
   ]
  },
  {
   "cell_type": "code",
   "execution_count": 61,
   "id": "12591263-1717-4785-af04-3f5a214f696e",
   "metadata": {
    "execution": {
     "iopub.execute_input": "2022-05-11T09:04:49.697735Z",
     "iopub.status.busy": "2022-05-11T09:04:49.697200Z",
     "iopub.status.idle": "2022-05-11T09:04:49.708917Z",
     "shell.execute_reply": "2022-05-11T09:04:49.708045Z",
     "shell.execute_reply.started": "2022-05-11T09:04:49.697683Z"
    },
    "tags": []
   },
   "outputs": [
    {
     "name": "stdout",
     "output_type": "stream",
     "text": [
      "Ttest_indResult(statistic=-1.135051694926796, pvalue=0.2610226608748733)\n"
     ]
    }
   ],
   "source": [
    "print(Ttest_Epochs(Epoch_Condition = [unchanged_0, changed_0], \n",
    "             tmin = .184, \n",
    "             tmax = .200,\n",
    "             channels = ['P7', 'P8', \"TP9\", \"TP10\"]))"
   ]
  },
  {
   "cell_type": "code",
   "execution_count": 36,
   "id": "3f68b5e8",
   "metadata": {},
   "outputs": [
    {
     "name": "stdout",
     "output_type": "stream",
     "text": [
      "Ttest_indResult(statistic=-0.9531761985875112, pvalue=0.34445646967791077)\n"
     ]
    }
   ],
   "source": [
    "print(Ttest_Epochs(Epoch_Condition = [unchanged_90, changed_90], \n",
    "             tmin = .184, \n",
    "             tmax = .200,\n",
    "             channels = ['P7', 'P8', \"TP9\", \"TP10\"]))"
   ]
  },
  {
   "cell_type": "code",
   "execution_count": 37,
   "id": "871492c8",
   "metadata": {},
   "outputs": [
    {
     "name": "stdout",
     "output_type": "stream",
     "text": [
      "Ttest_indResult(statistic=1.2375928034154984, pvalue=0.22085389905812924)\n"
     ]
    }
   ],
   "source": [
    "print(Ttest_Epochs(Epoch_Condition = [unchanged_180, changed_180], \n",
    "             tmin = .184, \n",
    "             tmax = .200,\n",
    "             channels = ['P7', 'P8', \"TP9\", \"TP10\"]))"
   ]
  },
  {
   "cell_type": "code",
   "execution_count": 65,
   "id": "b4372e39",
   "metadata": {},
   "outputs": [
    {
     "name": "stdout",
     "output_type": "stream",
     "text": [
      "Ttest_indResult(statistic=-0.8989995989803181, pvalue=0.3723700909867389)\n"
     ]
    }
   ],
   "source": [
    "print(Ttest_Epochs(Epoch_Condition = [unchanged_0, unchanged_90, unchanged_180, changed_0, changed_90, changed_180], \n",
    "             tmin = .184, \n",
    "             tmax = .200,\n",
    "             channels = [\"TP9\", \"TP10\"]))"
   ]
  },
  {
   "attachments": {},
   "cell_type": "markdown",
   "id": "897ea2a5-cac5-433e-b51f-f3a3a9d6b407",
   "metadata": {},
   "source": [
    "### Pairwise T-tests in The Significant Window"
   ]
  },
  {
   "cell_type": "code",
   "execution_count": 22,
   "id": "a59196ef-0280-4a71-b427-eeb2063d2aaa",
   "metadata": {
    "execution": {
     "iopub.execute_input": "2022-05-11T09:08:19.272906Z",
     "iopub.status.busy": "2022-05-11T09:08:19.272369Z",
     "iopub.status.idle": "2022-05-11T09:08:19.288864Z",
     "shell.execute_reply": "2022-05-11T09:08:19.288161Z",
     "shell.execute_reply.started": "2022-05-11T09:08:19.272855Z"
    },
    "tags": []
   },
   "outputs": [],
   "source": [
    "def pairwise_Ttest(Epoch_Condition, tmin, tmax, channels, Epoch_Names):\n",
    "    n_conditions = range(len(Epoch_Condition))\n",
    "    data = []\n",
    "    for i in n_conditions:\n",
    "        data.append(Epoch_Condition[i].get_data(picks=channels, tmin=tmin, tmax=tmax))\n",
    "    \n",
    "    means = []\n",
    "    for i in n_conditions:\n",
    "        mean_temp = np.mean(data[i], axis=2)\n",
    "        means.append(np.mean(mean_temp, axis=1))\n",
    "    \n",
    "    ## create empty lists\n",
    "    pairwise_names = []\n",
    "    pairwise_pval = []\n",
    "    pairwise_tstat = []\n",
    "    \n",
    "    ## make all the combinations\n",
    "    for a, b in combinations(Epoch_Names, 2): \n",
    "        y = f\"{a} vs. {b}\"\n",
    "        pairwise_names.append(y)\n",
    "        \n",
    "    for a, b in combinations(means, 2): # function which make all combinations of 2 means possible\n",
    "        y = st.ttest_ind(a, b)\n",
    "        pairwise_pval.append(y.pvalue)\n",
    "        pairwise_tstat.append(y.statistic)\n",
    "    \n",
    "    \n",
    "    bonferroni = multi(pairwise_pval, alpha=0.05, method='bonferroni', is_sorted=False, returnsorted=False)\n",
    "    \n",
    "    ## create dataframe\n",
    "    data = pd.DataFrame({\"Comparison\":pairwise_names, \"P-Value\":pairwise_pval, \"t-statistic\":pairwise_tstat, \"Bonferroni Adj.\":bonferroni[1]})\n",
    "    \n",
    "    return data\n",
    "    "
   ]
  },
  {
   "attachments": {},
   "cell_type": "markdown",
   "id": "2f1108e6",
   "metadata": {},
   "source": [
    "## Plotting different rotation for normal vs thatcher"
   ]
  },
  {
   "cell_type": "code",
   "execution_count": 59,
   "id": "cbc127b8",
   "metadata": {},
   "outputs": [
    {
     "name": "stdout",
     "output_type": "stream",
     "text": [
      "T test on different rotations for Normal vs thatcher images\n"
     ]
    },
    {
     "data": {
      "text/html": [
       "<div>\n",
       "<style scoped>\n",
       "    .dataframe tbody tr th:only-of-type {\n",
       "        vertical-align: middle;\n",
       "    }\n",
       "\n",
       "    .dataframe tbody tr th {\n",
       "        vertical-align: top;\n",
       "    }\n",
       "\n",
       "    .dataframe thead th {\n",
       "        text-align: right;\n",
       "    }\n",
       "</style>\n",
       "<table border=\"1\" class=\"dataframe\">\n",
       "  <thead>\n",
       "    <tr style=\"text-align: right;\">\n",
       "      <th></th>\n",
       "      <th>Comparison</th>\n",
       "      <th>P-Value</th>\n",
       "      <th>t-statistic</th>\n",
       "      <th>Bonferroni Adj.</th>\n",
       "    </tr>\n",
       "  </thead>\n",
       "  <tbody>\n",
       "    <tr>\n",
       "      <th>0</th>\n",
       "      <td>Normal Upright vs. Normal Ninety</td>\n",
       "      <td>0.372370</td>\n",
       "      <td>-0.899000</td>\n",
       "      <td>1.0</td>\n",
       "    </tr>\n",
       "    <tr>\n",
       "      <th>1</th>\n",
       "      <td>Normal Upright vs. Normal Inverted</td>\n",
       "      <td>0.269234</td>\n",
       "      <td>-1.115508</td>\n",
       "      <td>1.0</td>\n",
       "    </tr>\n",
       "    <tr>\n",
       "      <th>2</th>\n",
       "      <td>Normal Upright vs. Thatcher Upright</td>\n",
       "      <td>0.514689</td>\n",
       "      <td>-0.655576</td>\n",
       "      <td>1.0</td>\n",
       "    </tr>\n",
       "    <tr>\n",
       "      <th>3</th>\n",
       "      <td>Normal Upright vs. Thatcher Ninety</td>\n",
       "      <td>0.287442</td>\n",
       "      <td>-1.073615</td>\n",
       "      <td>1.0</td>\n",
       "    </tr>\n",
       "    <tr>\n",
       "      <th>4</th>\n",
       "      <td>Normal Upright vs. Thatcher Inverted</td>\n",
       "      <td>0.893952</td>\n",
       "      <td>0.133892</td>\n",
       "      <td>1.0</td>\n",
       "    </tr>\n",
       "    <tr>\n",
       "      <th>5</th>\n",
       "      <td>Normal Ninety vs. Normal Inverted</td>\n",
       "      <td>0.931723</td>\n",
       "      <td>0.086050</td>\n",
       "      <td>1.0</td>\n",
       "    </tr>\n",
       "    <tr>\n",
       "      <th>6</th>\n",
       "      <td>Normal Ninety vs. Thatcher Upright</td>\n",
       "      <td>0.661535</td>\n",
       "      <td>0.440052</td>\n",
       "      <td>1.0</td>\n",
       "    </tr>\n",
       "    <tr>\n",
       "      <th>7</th>\n",
       "      <td>Normal Ninety vs. Thatcher Ninety</td>\n",
       "      <td>0.973968</td>\n",
       "      <td>-0.032773</td>\n",
       "      <td>1.0</td>\n",
       "    </tr>\n",
       "    <tr>\n",
       "      <th>8</th>\n",
       "      <td>Normal Ninety vs. Thatcher Inverted</td>\n",
       "      <td>0.332200</td>\n",
       "      <td>0.977869</td>\n",
       "      <td>1.0</td>\n",
       "    </tr>\n",
       "    <tr>\n",
       "      <th>9</th>\n",
       "      <td>Normal Inverted vs. Thatcher Upright</td>\n",
       "      <td>0.624790</td>\n",
       "      <td>0.491696</td>\n",
       "      <td>1.0</td>\n",
       "    </tr>\n",
       "    <tr>\n",
       "      <th>10</th>\n",
       "      <td>Normal Inverted vs. Thatcher Ninety</td>\n",
       "      <td>0.888592</td>\n",
       "      <td>-0.140703</td>\n",
       "      <td>1.0</td>\n",
       "    </tr>\n",
       "    <tr>\n",
       "      <th>11</th>\n",
       "      <td>Normal Inverted vs. Thatcher Inverted</td>\n",
       "      <td>0.234362</td>\n",
       "      <td>1.201703</td>\n",
       "      <td>1.0</td>\n",
       "    </tr>\n",
       "    <tr>\n",
       "      <th>12</th>\n",
       "      <td>Thatcher Upright vs. Thatcher Ninety</td>\n",
       "      <td>0.584057</td>\n",
       "      <td>-0.550549</td>\n",
       "      <td>1.0</td>\n",
       "    </tr>\n",
       "    <tr>\n",
       "      <th>13</th>\n",
       "      <td>Thatcher Upright vs. Thatcher Inverted</td>\n",
       "      <td>0.448229</td>\n",
       "      <td>0.763553</td>\n",
       "      <td>1.0</td>\n",
       "    </tr>\n",
       "    <tr>\n",
       "      <th>14</th>\n",
       "      <td>Thatcher Ninety vs. Thatcher Inverted</td>\n",
       "      <td>0.253024</td>\n",
       "      <td>1.154515</td>\n",
       "      <td>1.0</td>\n",
       "    </tr>\n",
       "  </tbody>\n",
       "</table>\n",
       "</div>"
      ],
      "text/plain": [
       "                                Comparison   P-Value  t-statistic  \\\n",
       "0         Normal Upright vs. Normal Ninety  0.372370    -0.899000   \n",
       "1       Normal Upright vs. Normal Inverted  0.269234    -1.115508   \n",
       "2      Normal Upright vs. Thatcher Upright  0.514689    -0.655576   \n",
       "3       Normal Upright vs. Thatcher Ninety  0.287442    -1.073615   \n",
       "4     Normal Upright vs. Thatcher Inverted  0.893952     0.133892   \n",
       "5        Normal Ninety vs. Normal Inverted  0.931723     0.086050   \n",
       "6       Normal Ninety vs. Thatcher Upright  0.661535     0.440052   \n",
       "7        Normal Ninety vs. Thatcher Ninety  0.973968    -0.032773   \n",
       "8      Normal Ninety vs. Thatcher Inverted  0.332200     0.977869   \n",
       "9     Normal Inverted vs. Thatcher Upright  0.624790     0.491696   \n",
       "10     Normal Inverted vs. Thatcher Ninety  0.888592    -0.140703   \n",
       "11   Normal Inverted vs. Thatcher Inverted  0.234362     1.201703   \n",
       "12    Thatcher Upright vs. Thatcher Ninety  0.584057    -0.550549   \n",
       "13  Thatcher Upright vs. Thatcher Inverted  0.448229     0.763553   \n",
       "14   Thatcher Ninety vs. Thatcher Inverted  0.253024     1.154515   \n",
       "\n",
       "    Bonferroni Adj.  \n",
       "0               1.0  \n",
       "1               1.0  \n",
       "2               1.0  \n",
       "3               1.0  \n",
       "4               1.0  \n",
       "5               1.0  \n",
       "6               1.0  \n",
       "7               1.0  \n",
       "8               1.0  \n",
       "9               1.0  \n",
       "10              1.0  \n",
       "11              1.0  \n",
       "12              1.0  \n",
       "13              1.0  \n",
       "14              1.0  "
      ]
     },
     "execution_count": 59,
     "metadata": {},
     "output_type": "execute_result"
    }
   ],
   "source": [
    "## N170\n",
    "pairwise = pairwise_Ttest(Epoch_Condition = [unchanged_0, unchanged_90, unchanged_180, changed_0, changed_90, changed_180], \n",
    "             tmin = .184, \n",
    "             tmax = .200,\n",
    "             channels = [\"TP9\", \"TP10\"],\n",
    "             Epoch_Names = [\"Normal Upright\", \"Normal Ninety\", \"Normal Inverted\", \"Thatcher Upright\", \"Thatcher Ninety\", \"Thatcher Inverted\"]\n",
    "              )\n",
    "\n",
    "print(\"T test on different rotations for Normal vs thatcher images\")\n",
    "pairwise"
   ]
  },
  {
   "attachments": {},
   "cell_type": "markdown",
   "id": "e8f518fa",
   "metadata": {},
   "source": [
    "## Plotting different familiarities at different rotations for normal vs thatcher"
   ]
  },
  {
   "cell_type": "code",
   "execution_count": 62,
   "id": "efce3af1",
   "metadata": {},
   "outputs": [
    {
     "name": "stdout",
     "output_type": "stream",
     "text": [
      "T test on different rotations for Normal vs thatcher images\n"
     ]
    },
    {
     "data": {
      "text/html": [
       "<div>\n",
       "<style scoped>\n",
       "    .dataframe tbody tr th:only-of-type {\n",
       "        vertical-align: middle;\n",
       "    }\n",
       "\n",
       "    .dataframe tbody tr th {\n",
       "        vertical-align: top;\n",
       "    }\n",
       "\n",
       "    .dataframe thead th {\n",
       "        text-align: right;\n",
       "    }\n",
       "</style>\n",
       "<table border=\"1\" class=\"dataframe\">\n",
       "  <thead>\n",
       "    <tr style=\"text-align: right;\">\n",
       "      <th></th>\n",
       "      <th>Comparison</th>\n",
       "      <th>P-Value</th>\n",
       "      <th>t-statistic</th>\n",
       "      <th>Bonferroni Adj.</th>\n",
       "    </tr>\n",
       "  </thead>\n",
       "  <tbody>\n",
       "    <tr>\n",
       "      <th>0</th>\n",
       "      <td>Familiar Normal Upright vs. Familiar Normal In...</td>\n",
       "      <td>0.280811</td>\n",
       "      <td>-1.099741</td>\n",
       "      <td>1.0</td>\n",
       "    </tr>\n",
       "    <tr>\n",
       "      <th>1</th>\n",
       "      <td>Familiar Normal Upright vs. Familiar Thatcher ...</td>\n",
       "      <td>0.401794</td>\n",
       "      <td>-0.851356</td>\n",
       "      <td>1.0</td>\n",
       "    </tr>\n",
       "    <tr>\n",
       "      <th>2</th>\n",
       "      <td>Familiar Normal Upright vs. Familiar Thatcher ...</td>\n",
       "      <td>0.824647</td>\n",
       "      <td>0.223658</td>\n",
       "      <td>1.0</td>\n",
       "    </tr>\n",
       "    <tr>\n",
       "      <th>3</th>\n",
       "      <td>Familiar Normal Upright vs. Unfamiliar Normal ...</td>\n",
       "      <td>0.565792</td>\n",
       "      <td>-0.581144</td>\n",
       "      <td>1.0</td>\n",
       "    </tr>\n",
       "    <tr>\n",
       "      <th>4</th>\n",
       "      <td>Familiar Normal Upright vs. Unfamiliar Normal ...</td>\n",
       "      <td>0.246600</td>\n",
       "      <td>-1.183403</td>\n",
       "      <td>1.0</td>\n",
       "    </tr>\n",
       "    <tr>\n",
       "      <th>5</th>\n",
       "      <td>Familiar Normal Upright vs. Unfamiliar Thatche...</td>\n",
       "      <td>0.448654</td>\n",
       "      <td>-0.768448</td>\n",
       "      <td>1.0</td>\n",
       "    </tr>\n",
       "    <tr>\n",
       "      <th>6</th>\n",
       "      <td>Familiar Normal Upright vs. Unfamiliar Thatche...</td>\n",
       "      <td>0.510832</td>\n",
       "      <td>-0.666046</td>\n",
       "      <td>1.0</td>\n",
       "    </tr>\n",
       "    <tr>\n",
       "      <th>7</th>\n",
       "      <td>Familiar Normal Inverted vs. Familiar Thatcher...</td>\n",
       "      <td>0.841290</td>\n",
       "      <td>0.202113</td>\n",
       "      <td>1.0</td>\n",
       "    </tr>\n",
       "    <tr>\n",
       "      <th>8</th>\n",
       "      <td>Familiar Normal Inverted vs. Familiar Thatcher...</td>\n",
       "      <td>0.260706</td>\n",
       "      <td>1.147941</td>\n",
       "      <td>1.0</td>\n",
       "    </tr>\n",
       "    <tr>\n",
       "      <th>9</th>\n",
       "      <td>Familiar Normal Inverted vs. Unfamiliar Normal...</td>\n",
       "      <td>0.713132</td>\n",
       "      <td>0.371405</td>\n",
       "      <td>1.0</td>\n",
       "    </tr>\n",
       "    <tr>\n",
       "      <th>10</th>\n",
       "      <td>Familiar Normal Inverted vs. Unfamiliar Normal...</td>\n",
       "      <td>0.819535</td>\n",
       "      <td>-0.230297</td>\n",
       "      <td>1.0</td>\n",
       "    </tr>\n",
       "    <tr>\n",
       "      <th>11</th>\n",
       "      <td>Familiar Normal Inverted vs. Unfamiliar Thatch...</td>\n",
       "      <td>0.783151</td>\n",
       "      <td>0.277874</td>\n",
       "      <td>1.0</td>\n",
       "    </tr>\n",
       "    <tr>\n",
       "      <th>12</th>\n",
       "      <td>Familiar Normal Inverted vs. Unfamiliar Thatch...</td>\n",
       "      <td>0.720107</td>\n",
       "      <td>0.361949</td>\n",
       "      <td>1.0</td>\n",
       "    </tr>\n",
       "    <tr>\n",
       "      <th>13</th>\n",
       "      <td>Familiar Thatcher Upright vs. Familiar Thatche...</td>\n",
       "      <td>0.354429</td>\n",
       "      <td>0.941643</td>\n",
       "      <td>1.0</td>\n",
       "    </tr>\n",
       "    <tr>\n",
       "      <th>14</th>\n",
       "      <td>Familiar Thatcher Upright vs. Unfamiliar Norma...</td>\n",
       "      <td>0.856282</td>\n",
       "      <td>0.182787</td>\n",
       "      <td>1.0</td>\n",
       "    </tr>\n",
       "    <tr>\n",
       "      <th>15</th>\n",
       "      <td>Familiar Thatcher Upright vs. Unfamiliar Norma...</td>\n",
       "      <td>0.692559</td>\n",
       "      <td>-0.399496</td>\n",
       "      <td>1.0</td>\n",
       "    </tr>\n",
       "    <tr>\n",
       "      <th>16</th>\n",
       "      <td>Familiar Thatcher Upright vs. Unfamiliar Thatc...</td>\n",
       "      <td>0.941403</td>\n",
       "      <td>0.074170</td>\n",
       "      <td>1.0</td>\n",
       "    </tr>\n",
       "    <tr>\n",
       "      <th>17</th>\n",
       "      <td>Familiar Thatcher Upright vs. Unfamiliar Thatc...</td>\n",
       "      <td>0.875092</td>\n",
       "      <td>0.158639</td>\n",
       "      <td>1.0</td>\n",
       "    </tr>\n",
       "    <tr>\n",
       "      <th>18</th>\n",
       "      <td>Familiar Thatcher Inverted vs. Unfamiliar Norm...</td>\n",
       "      <td>0.484039</td>\n",
       "      <td>-0.709241</td>\n",
       "      <td>1.0</td>\n",
       "    </tr>\n",
       "    <tr>\n",
       "      <th>19</th>\n",
       "      <td>Familiar Thatcher Inverted vs. Unfamiliar Norm...</td>\n",
       "      <td>0.227353</td>\n",
       "      <td>-1.234293</td>\n",
       "      <td>1.0</td>\n",
       "    </tr>\n",
       "    <tr>\n",
       "      <th>20</th>\n",
       "      <td>Familiar Thatcher Inverted vs. Unfamiliar That...</td>\n",
       "      <td>0.390976</td>\n",
       "      <td>-0.871344</td>\n",
       "      <td>1.0</td>\n",
       "    </tr>\n",
       "    <tr>\n",
       "      <th>21</th>\n",
       "      <td>Familiar Thatcher Inverted vs. Unfamiliar That...</td>\n",
       "      <td>0.439579</td>\n",
       "      <td>-0.784075</td>\n",
       "      <td>1.0</td>\n",
       "    </tr>\n",
       "    <tr>\n",
       "      <th>22</th>\n",
       "      <td>Unfamiliar Normal Upright vs. Unfamiliar Norma...</td>\n",
       "      <td>0.595006</td>\n",
       "      <td>-0.537738</td>\n",
       "      <td>1.0</td>\n",
       "    </tr>\n",
       "    <tr>\n",
       "      <th>23</th>\n",
       "      <td>Unfamiliar Normal Upright vs. Unfamiliar Thatc...</td>\n",
       "      <td>0.909840</td>\n",
       "      <td>-0.114269</td>\n",
       "      <td>1.0</td>\n",
       "    </tr>\n",
       "    <tr>\n",
       "      <th>24</th>\n",
       "      <td>Unfamiliar Normal Upright vs. Unfamiliar Thatc...</td>\n",
       "      <td>0.972774</td>\n",
       "      <td>-0.034436</td>\n",
       "      <td>1.0</td>\n",
       "    </tr>\n",
       "    <tr>\n",
       "      <th>25</th>\n",
       "      <td>Unfamiliar Normal Inverted vs. Unfamiliar That...</td>\n",
       "      <td>0.645540</td>\n",
       "      <td>0.464982</td>\n",
       "      <td>1.0</td>\n",
       "    </tr>\n",
       "    <tr>\n",
       "      <th>26</th>\n",
       "      <td>Unfamiliar Normal Inverted vs. Unfamiliar That...</td>\n",
       "      <td>0.595561</td>\n",
       "      <td>0.536924</td>\n",
       "      <td>1.0</td>\n",
       "    </tr>\n",
       "    <tr>\n",
       "      <th>27</th>\n",
       "      <td>Unfamiliar Thatcher Upright vs. Unfamiliar Tha...</td>\n",
       "      <td>0.932736</td>\n",
       "      <td>0.085166</td>\n",
       "      <td>1.0</td>\n",
       "    </tr>\n",
       "  </tbody>\n",
       "</table>\n",
       "</div>"
      ],
      "text/plain": [
       "                                           Comparison   P-Value  t-statistic  \\\n",
       "0   Familiar Normal Upright vs. Familiar Normal In...  0.280811    -1.099741   \n",
       "1   Familiar Normal Upright vs. Familiar Thatcher ...  0.401794    -0.851356   \n",
       "2   Familiar Normal Upright vs. Familiar Thatcher ...  0.824647     0.223658   \n",
       "3   Familiar Normal Upright vs. Unfamiliar Normal ...  0.565792    -0.581144   \n",
       "4   Familiar Normal Upright vs. Unfamiliar Normal ...  0.246600    -1.183403   \n",
       "5   Familiar Normal Upright vs. Unfamiliar Thatche...  0.448654    -0.768448   \n",
       "6   Familiar Normal Upright vs. Unfamiliar Thatche...  0.510832    -0.666046   \n",
       "7   Familiar Normal Inverted vs. Familiar Thatcher...  0.841290     0.202113   \n",
       "8   Familiar Normal Inverted vs. Familiar Thatcher...  0.260706     1.147941   \n",
       "9   Familiar Normal Inverted vs. Unfamiliar Normal...  0.713132     0.371405   \n",
       "10  Familiar Normal Inverted vs. Unfamiliar Normal...  0.819535    -0.230297   \n",
       "11  Familiar Normal Inverted vs. Unfamiliar Thatch...  0.783151     0.277874   \n",
       "12  Familiar Normal Inverted vs. Unfamiliar Thatch...  0.720107     0.361949   \n",
       "13  Familiar Thatcher Upright vs. Familiar Thatche...  0.354429     0.941643   \n",
       "14  Familiar Thatcher Upright vs. Unfamiliar Norma...  0.856282     0.182787   \n",
       "15  Familiar Thatcher Upright vs. Unfamiliar Norma...  0.692559    -0.399496   \n",
       "16  Familiar Thatcher Upright vs. Unfamiliar Thatc...  0.941403     0.074170   \n",
       "17  Familiar Thatcher Upright vs. Unfamiliar Thatc...  0.875092     0.158639   \n",
       "18  Familiar Thatcher Inverted vs. Unfamiliar Norm...  0.484039    -0.709241   \n",
       "19  Familiar Thatcher Inverted vs. Unfamiliar Norm...  0.227353    -1.234293   \n",
       "20  Familiar Thatcher Inverted vs. Unfamiliar That...  0.390976    -0.871344   \n",
       "21  Familiar Thatcher Inverted vs. Unfamiliar That...  0.439579    -0.784075   \n",
       "22  Unfamiliar Normal Upright vs. Unfamiliar Norma...  0.595006    -0.537738   \n",
       "23  Unfamiliar Normal Upright vs. Unfamiliar Thatc...  0.909840    -0.114269   \n",
       "24  Unfamiliar Normal Upright vs. Unfamiliar Thatc...  0.972774    -0.034436   \n",
       "25  Unfamiliar Normal Inverted vs. Unfamiliar That...  0.645540     0.464982   \n",
       "26  Unfamiliar Normal Inverted vs. Unfamiliar That...  0.595561     0.536924   \n",
       "27  Unfamiliar Thatcher Upright vs. Unfamiliar Tha...  0.932736     0.085166   \n",
       "\n",
       "    Bonferroni Adj.  \n",
       "0               1.0  \n",
       "1               1.0  \n",
       "2               1.0  \n",
       "3               1.0  \n",
       "4               1.0  \n",
       "5               1.0  \n",
       "6               1.0  \n",
       "7               1.0  \n",
       "8               1.0  \n",
       "9               1.0  \n",
       "10              1.0  \n",
       "11              1.0  \n",
       "12              1.0  \n",
       "13              1.0  \n",
       "14              1.0  \n",
       "15              1.0  \n",
       "16              1.0  \n",
       "17              1.0  \n",
       "18              1.0  \n",
       "19              1.0  \n",
       "20              1.0  \n",
       "21              1.0  \n",
       "22              1.0  \n",
       "23              1.0  \n",
       "24              1.0  \n",
       "25              1.0  \n",
       "26              1.0  \n",
       "27              1.0  "
      ]
     },
     "execution_count": 62,
     "metadata": {},
     "output_type": "execute_result"
    }
   ],
   "source": [
    "## N170\n",
    "pairwise = pairwise_Ttest(Epoch_Condition = [unchanged_0_familiar, unchanged_180_familiar, changed_0_familiar, changed_180_familiar, unchanged_0_unfamiliar, unchanged_180_unfamiliar, changed_0_unfamiliar, changed_180_unfamiliar], \n",
    "             tmin = .184, \n",
    "             tmax = .200,\n",
    "             channels = [\"TP9\", \"TP10\"],\n",
    "             Epoch_Names = [\"Familiar Normal Upright\", \"Familiar Normal Inverted\", \"Familiar Thatcher Upright\", \"Familiar Thatcher Inverted\", \"Unfamiliar Normal Upright\", \"Unfamiliar Normal Inverted\", \"Unfamiliar Thatcher Upright\", \"Unfamiliar Thatcher Inverted\"]\n",
    "              )\n",
    "\n",
    "print(\"T test on different rotations for Normal vs thatcher images\")\n",
    "pairwise"
   ]
  },
  {
   "cell_type": "code",
   "execution_count": null,
   "id": "3fd9420e",
   "metadata": {},
   "outputs": [],
   "source": []
  }
 ],
 "metadata": {
  "interpreter": {
   "hash": "c30f2af5f468e7f5b45bcc30fca5f4886c90d54777aed916ed5f6294dfb24bf2"
  },
  "kernelspec": {
   "display_name": "Python 3.8.10 ('base')",
   "language": "python",
   "name": "python3"
  },
  "language_info": {
   "codemirror_mode": {
    "name": "ipython",
    "version": 3
   },
   "file_extension": ".py",
   "mimetype": "text/x-python",
   "name": "python",
   "nbconvert_exporter": "python",
   "pygments_lexer": "ipython3",
   "version": "3.9.12"
  }
 },
 "nbformat": 4,
 "nbformat_minor": 5
}
