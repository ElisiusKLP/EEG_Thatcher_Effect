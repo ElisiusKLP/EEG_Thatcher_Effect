{
 "cells": [
  {
   "cell_type": "markdown",
   "metadata": {},
   "source": [
    "# FaceWord Notebook \n",
    "### *- Laurits Lyngbæk*\n",
    "This is a notebook for working through the EEG data from the face-word experiment"
   ]
  },
  {
   "cell_type": "code",
   "execution_count": 3,
   "metadata": {},
   "outputs": [
    {
     "name": "stdout",
     "output_type": "stream",
     "text": [
      "Collecting package metadata (current_repodata.json): ...working... done\n",
      "Solving environment: ...working... failed with initial frozen solve. Retrying with flexible solve.\n",
      "Collecting package metadata (repodata.json): ...working... done\n",
      "Solving environment: ...working... failed with initial frozen solve. Retrying with flexible solve.\n"
     ]
    },
    {
     "name": "stderr",
     "output_type": "stream",
     "text": [
      "\n",
      "PackagesNotFoundError: The following packages are not available from current channels:\n",
      "\n",
      "  - mne\n",
      "\n",
      "Current channels:\n",
      "\n",
      "  - https://repo.anaconda.com/pkgs/main/win-64\n",
      "  - https://repo.anaconda.com/pkgs/main/noarch\n",
      "  - https://repo.anaconda.com/pkgs/r/win-64\n",
      "  - https://repo.anaconda.com/pkgs/r/noarch\n",
      "  - https://repo.anaconda.com/pkgs/msys2/win-64\n",
      "  - https://repo.anaconda.com/pkgs/msys2/noarch\n",
      "\n",
      "To search for alternate channels that may provide the conda package you're\n",
      "looking for, navigate to\n",
      "\n",
      "    https://anaconda.org\n",
      "\n",
      "and use the search bar at the top of the page.\n",
      "\n",
      "\n"
     ]
    }
   ],
   "source": [
    "# Installing packages in the notebook\n",
    "import os\n",
    "import sys\n",
    "!conda install --yes --prefix {sys.prefix} mne"
   ]
  },
  {
   "cell_type": "code",
   "execution_count": 4,
   "metadata": {
    "execution": {
     "iopub.execute_input": "2023-04-19T12:08:55.890080Z",
     "iopub.status.busy": "2023-04-19T12:08:55.889853Z",
     "iopub.status.idle": "2023-04-19T12:09:11.068352Z",
     "shell.execute_reply": "2023-04-19T12:09:11.067508Z",
     "shell.execute_reply.started": "2023-04-19T12:08:55.890056Z"
    },
    "tags": []
   },
   "outputs": [
    {
     "ename": "ModuleNotFoundError",
     "evalue": "No module named 'mne'",
     "output_type": "error",
     "traceback": [
      "\u001b[1;31m---------------------------------------------------------------------------\u001b[0m",
      "\u001b[1;31mModuleNotFoundError\u001b[0m                       Traceback (most recent call last)",
      "Cell \u001b[1;32mIn[4], line 2\u001b[0m\n\u001b[0;32m      1\u001b[0m \u001b[39m# Loading packages:\u001b[39;00m\n\u001b[1;32m----> 2\u001b[0m \u001b[39mimport\u001b[39;00m \u001b[39mmne\u001b[39;00m\n\u001b[0;32m      3\u001b[0m \u001b[39mimport\u001b[39;00m \u001b[39mnumpy\u001b[39;00m \u001b[39mas\u001b[39;00m \u001b[39mnp\u001b[39;00m\n\u001b[0;32m      4\u001b[0m \u001b[39mimport\u001b[39;00m \u001b[39mpandas\u001b[39;00m \u001b[39mas\u001b[39;00m \u001b[39mpd\u001b[39;00m\n",
      "\u001b[1;31mModuleNotFoundError\u001b[0m: No module named 'mne'"
     ]
    }
   ],
   "source": [
    "# Loading packages:\n",
    "install\n",
    "import mne\n",
    "import numpy as np\n",
    "import pandas as pd\n",
    "import os\n",
    "import matplotlib\n",
    " \n",
    "%matplotlib inline"
   ]
  },
  {
   "attachments": {},
   "cell_type": "markdown",
   "metadata": {},
   "source": [
    "# Fixing data:\n",
    "There is a problem with the timestamps, we export a csv file to fix the problems in R (im more adept in R)"
   ]
  },
  {
   "cell_type": "code",
   "execution_count": null,
   "metadata": {
    "execution": {
     "iopub.execute_input": "2023-04-19T12:09:11.069775Z",
     "iopub.status.busy": "2023-04-19T12:09:11.069505Z",
     "iopub.status.idle": "2023-04-19T12:09:12.371985Z",
     "shell.execute_reply": "2023-04-19T12:09:12.371314Z",
     "shell.execute_reply.started": "2023-04-19T12:09:11.069752Z"
    },
    "tags": []
   },
   "outputs": [],
   "source": [
    "# Reading files with a hard coded data location\n",
    "raw = mne.io.read_raw_brainvision(\"./Data/own_group8.vhdr\", eog= (\"EOG1\", \"EOG2\"))\n",
    "raw.load_data()"
   ]
  },
  {
   "cell_type": "code",
   "execution_count": null,
   "metadata": {},
   "outputs": [],
   "source": [
    "# Save the timestamps as a csv file for manipulation in R\n",
    "timestamps = mne.events_from_annotations(raw)[0]\n",
    "np.savetxt(\"timestamps.csv\", timestamps, delimiter=\",\")\n",
    "\n",
    "# Import the manipulated timestamps from R\n",
    "# Read the CSV file into a pandas DataFrame\n",
    "df = pd.read_csv('Cleaned_Timestamps.csv')\n",
    "\n",
    "# Convert the DataFrame to a numpy array\n",
    "data = df.to_numpy()\n",
    "\n",
    "# Save the manipulated timestamps to mne.events_from_annotations(raw)[0]\n",
    "print(raw.annotations[0])\n",
    "\n"
   ]
  },
  {
   "cell_type": "code",
   "execution_count": null,
   "metadata": {
    "execution": {
     "iopub.execute_input": "2023-04-19T12:09:12.373158Z",
     "iopub.status.busy": "2023-04-19T12:09:12.372897Z",
     "iopub.status.idle": "2023-04-19T12:09:13.934267Z",
     "shell.execute_reply": "2023-04-19T12:09:13.933444Z",
     "shell.execute_reply.started": "2023-04-19T12:09:12.373137Z"
    },
    "tags": []
   },
   "outputs": [],
   "source": [
    "\n",
    "# Selecting only EEG and stimulus data & plotting raw data\n",
    "raw.plot(n_channels=32, duration=1, start = 300.5);"
   ]
  },
  {
   "cell_type": "code",
   "execution_count": null,
   "metadata": {
    "execution": {
     "iopub.execute_input": "2023-04-19T12:09:13.935386Z",
     "iopub.status.busy": "2023-04-19T12:09:13.935191Z",
     "iopub.status.idle": "2023-04-19T12:09:13.953166Z",
     "shell.execute_reply": "2023-04-19T12:09:13.952540Z",
     "shell.execute_reply.started": "2023-04-19T12:09:13.935367Z"
    },
    "tags": []
   },
   "outputs": [],
   "source": [
    "\n",
    "#Specify the channel locations using standard_montage\n",
    "\n",
    "montage = mne.channels.make_standard_montage('standard_1020')\n",
    "raw.set_montage(montage, verbose=False)\n",
    "\n",
    "\n"
   ]
  },
  {
   "cell_type": "code",
   "execution_count": null,
   "metadata": {
    "execution": {
     "iopub.execute_input": "2023-04-19T12:09:13.954172Z",
     "iopub.status.busy": "2023-04-19T12:09:13.953962Z",
     "iopub.status.idle": "2023-04-19T12:09:25.030365Z",
     "shell.execute_reply": "2023-04-19T12:09:25.029498Z",
     "shell.execute_reply.started": "2023-04-19T12:09:13.954152Z"
    },
    "tags": []
   },
   "outputs": [],
   "source": [
    "# Try to find bad channels using ICA:\n",
    "raw.plot(n_channels=30, duration=60, start = 300, scalings=dict(eeg=50e-6));\n",
    "#ICA\n",
    "import sklearn # scikit-learn is needed to run ICA (Independent Component Analysis)\n",
    "raw.set_eeg_reference(ref_channels='average', ch_type='eeg')\n",
    "raw_fit = raw.copy().filter(1, None)\n",
    "\n"
   ]
  },
  {
   "cell_type": "code",
   "execution_count": null,
   "metadata": {
    "execution": {
     "iopub.execute_input": "2023-04-19T12:09:25.031708Z",
     "iopub.status.busy": "2023-04-19T12:09:25.031491Z",
     "iopub.status.idle": "2023-04-19T12:09:41.958694Z",
     "shell.execute_reply": "2023-04-19T12:09:41.957820Z",
     "shell.execute_reply.started": "2023-04-19T12:09:25.031685Z"
    },
    "tags": []
   },
   "outputs": [],
   "source": [
    "ica = mne.preprocessing.ICA(n_components=0.95, random_state=7, max_iter=800)\n",
    "ica.fit(raw_fit)\n",
    "ica.plot_components();"
   ]
  },
  {
   "cell_type": "code",
   "execution_count": null,
   "metadata": {
    "execution": {
     "iopub.execute_input": "2023-04-19T12:09:41.962942Z",
     "iopub.status.busy": "2023-04-19T12:09:41.962708Z",
     "iopub.status.idle": "2023-04-19T12:09:43.811602Z",
     "shell.execute_reply": "2023-04-19T12:09:43.810843Z",
     "shell.execute_reply.started": "2023-04-19T12:09:41.962920Z"
    },
    "tags": []
   },
   "outputs": [],
   "source": [
    "ica.plot_sources(raw_fit);"
   ]
  },
  {
   "cell_type": "code",
   "execution_count": null,
   "metadata": {
    "execution": {
     "iopub.execute_input": "2023-04-19T12:09:43.812585Z",
     "iopub.status.busy": "2023-04-19T12:09:43.812390Z",
     "iopub.status.idle": "2023-04-19T12:09:48.068134Z",
     "shell.execute_reply": "2023-04-19T12:09:48.067393Z",
     "shell.execute_reply.started": "2023-04-19T12:09:43.812566Z"
    },
    "tags": []
   },
   "outputs": [],
   "source": [
    "ica.exclude = [0,1,2] # setting the exclude argument to the noise components\n",
    "ica.plot_properties(raw, picks=ica.exclude); # plotting the components that will be excluded (sanity check, did we index the right ones?)\n",
    "\n",
    "ica.apply(raw)"
   ]
  },
  {
   "cell_type": "code",
   "execution_count": null,
   "metadata": {
    "execution": {
     "iopub.execute_input": "2023-04-19T12:09:48.069449Z",
     "iopub.status.busy": "2023-04-19T12:09:48.069223Z",
     "iopub.status.idle": "2023-04-19T12:09:49.751075Z",
     "shell.execute_reply": "2023-04-19T12:09:49.750385Z",
     "shell.execute_reply.started": "2023-04-19T12:09:48.069429Z"
    },
    "tags": []
   },
   "outputs": [],
   "source": [
    "#No obvious bad channels found\n",
    "\n",
    "#lowpass filter\n",
    "raw.filter(None, 40)\n",
    "#Highpass filter\n",
    "raw.filter(0.1, None)"
   ]
  },
  {
   "cell_type": "code",
   "execution_count": null,
   "metadata": {
    "execution": {
     "iopub.execute_input": "2023-04-19T12:09:49.752261Z",
     "iopub.status.busy": "2023-04-19T12:09:49.751986Z",
     "iopub.status.idle": "2023-04-19T12:09:49.756644Z",
     "shell.execute_reply": "2023-04-19T12:09:49.755921Z",
     "shell.execute_reply.started": "2023-04-19T12:09:49.752237Z"
    },
    "tags": []
   },
   "outputs": [],
   "source": [
    "# it seems the intense amplitude and frequenzy of the Fz makes the data un-interprable\n",
    "#raw.info['bads'] = ['Fz']\n",
    "#raw.pick_types(meg=False, eeg=True, stim=True, exclude='bads')\n",
    "\n",
    "\n",
    "#### COMMENTED OUT as this was not necessarry/warranted after ICA"
   ]
  },
  {
   "cell_type": "code",
   "execution_count": null,
   "metadata": {
    "execution": {
     "iopub.execute_input": "2023-04-19T12:09:49.758231Z",
     "iopub.status.busy": "2023-04-19T12:09:49.757771Z",
     "iopub.status.idle": "2023-04-19T12:09:51.529439Z",
     "shell.execute_reply": "2023-04-19T12:09:51.528630Z",
     "shell.execute_reply.started": "2023-04-19T12:09:49.758199Z"
    },
    "tags": []
   },
   "outputs": [],
   "source": [
    "#Plotting after filtering:\n",
    "\n",
    "raw.plot(n_channels=30, duration=20, start=300, scalings=dict(eeg=50e-6));"
   ]
  },
  {
   "cell_type": "code",
   "execution_count": null,
   "metadata": {
    "execution": {
     "iopub.execute_input": "2023-04-19T12:09:51.540630Z",
     "iopub.status.busy": "2023-04-19T12:09:51.540215Z",
     "iopub.status.idle": "2023-04-19T12:09:51.702902Z",
     "shell.execute_reply": "2023-04-19T12:09:51.700921Z",
     "shell.execute_reply.started": "2023-04-19T12:09:51.540602Z"
    },
    "tags": []
   },
   "outputs": [],
   "source": [
    "event_id = {\n",
    "    'Changed/Familliar/0' : 221,\n",
    "    'Changed/Familliar/90' : 222,\n",
    "    'Changed/Familliar/180' : 223,\n",
    "    'Changed/Unfamilliar/0' : 211,\n",
    "    'Changed/Unfamilliar/90' : 212,\n",
    "    'Changed/Unfamilliar/180' : 213,\n",
    "    'Unchanged/Familliar/0' : 121,\n",
    "    'Unchanged/Familliar/90' : 122,\n",
    "    'Unchanged/Familliar/180' : 123,\n",
    "    'Unchanged/Unfamilliar/0' : 111,\n",
    "    'Unchanged/Unfamilliar/90' : 112,\n",
    "    'Unchanged/Unfamilliar/180' : 113,\n",
    "    'Response_Changed' : 1,\n",
    "    'Response_Unchanged' : 2,\n",
    "\n",
    "}"
   ]
  },
  {
   "cell_type": "code",
   "execution_count": null,
   "metadata": {
    "execution": {
     "iopub.execute_input": "2023-04-19T12:14:11.404266Z",
     "iopub.status.busy": "2023-04-19T12:14:11.403513Z",
     "iopub.status.idle": "2023-04-19T12:14:11.697699Z",
     "shell.execute_reply": "2023-04-19T12:14:11.696903Z",
     "shell.execute_reply.started": "2023-04-19T12:14:11.404204Z"
    },
    "tags": []
   },
   "outputs": [],
   "source": [
    "# Plot events :))\n",
    "events = mne.events_from_annotations(raw)[0]\n",
    "mne.viz.plot_events(events, sfreq=250, first_samp=raw.first_samp, event_id=event_id);\n",
    "\n"
   ]
  },
  {
   "cell_type": "code",
   "execution_count": null,
   "metadata": {
    "execution": {
     "iopub.execute_input": "2023-04-19T12:09:52.226392Z",
     "iopub.status.busy": "2023-04-19T12:09:52.226131Z",
     "iopub.status.idle": "2023-04-19T12:09:53.695338Z",
     "shell.execute_reply": "2023-04-19T12:09:53.694647Z",
     "shell.execute_reply.started": "2023-04-19T12:09:52.226366Z"
    },
    "tags": []
   },
   "outputs": [],
   "source": [
    "# Define time window for epochs:\n",
    "tmin, tmax = -0.1, 0.7\n",
    "#create the rejection dictionary (how big the difference between a low and high can be in a (unrejected) epoch\n",
    "reject = {'eeg': 150e-6} \n",
    "raw.plot(n_channels=30, duration=1, scalings=dict(eeg=20e-6));\n",
    "epochs = mne.Epochs(raw, events, event_id, tmin, tmax, reject=reject, preload=True)\n",
    "epochs\n",
    "\n",
    "\n"
   ]
  },
  {
   "cell_type": "code",
   "execution_count": null,
   "metadata": {
    "execution": {
     "iopub.execute_input": "2023-04-19T12:09:53.696665Z",
     "iopub.status.busy": "2023-04-19T12:09:53.696402Z",
     "iopub.status.idle": "2023-04-19T12:09:54.742807Z",
     "shell.execute_reply": "2023-04-19T12:09:54.741391Z",
     "shell.execute_reply.started": "2023-04-19T12:09:53.696638Z"
    },
    "tags": []
   },
   "outputs": [],
   "source": [
    "# Downsample the data:\n",
    "epochs_resampled = epochs.resample(250)"
   ]
  },
  {
   "cell_type": "markdown",
   "metadata": {},
   "source": [
    "# ERP analysis\n",
    "The data has been preprocessed and is ready to be analyzed-"
   ]
  },
  {
   "cell_type": "code",
   "execution_count": null,
   "metadata": {
    "execution": {
     "iopub.execute_input": "2023-04-19T12:09:54.744147Z",
     "iopub.status.busy": "2023-04-19T12:09:54.743866Z",
     "iopub.status.idle": "2023-04-19T12:09:55.135076Z",
     "shell.execute_reply": "2023-04-19T12:09:55.133291Z",
     "shell.execute_reply.started": "2023-04-19T12:09:54.744121Z"
    },
    "tags": []
   },
   "outputs": [],
   "source": [
    "# Group the epochs by modality (i.e. visual and auditory)\n",
    "word_pos = epochs_resampled['wPos']\n",
    "word_neg = epochs_resampled['wNeg']\n",
    "word_neu =  epochs_resampled['wNeu']\n",
    "print(word_pos)\n",
    "\n",
    "\n",
    "# and create evoked responses (averaged across trials)\n",
    "evoked_word_pos = word_pos.average()\n",
    "evoked_word_neg = word_neg.average()\n",
    "evoked_word_neu = word_neu.average()\n",
    "print(epoch_word_pos)\n",
    "\n",
    "word_pos.plot_sensors(ch_type='eeg', show_names=True);"
   ]
  },
  {
   "cell_type": "code",
   "execution_count": null,
   "metadata": {
    "execution": {
     "iopub.status.busy": "2023-04-19T12:09:55.135889Z",
     "iopub.status.idle": "2023-04-19T12:09:55.136188Z",
     "shell.execute_reply": "2023-04-19T12:09:55.136073Z",
     "shell.execute_reply.started": "2023-04-19T12:09:55.136058Z"
    },
    "tags": []
   },
   "outputs": [],
   "source": [
    "mne.viz.plot_compare_evokeds(dict(positive=epoch_word_pos, negative=epoch_word_neg),\n",
    "                             legend='upper left', show_sensors='upper right')"
   ]
  },
  {
   "cell_type": "code",
   "execution_count": null,
   "metadata": {
    "execution": {
     "iopub.status.busy": "2023-04-19T12:09:55.137651Z",
     "iopub.status.idle": "2023-04-19T12:09:55.138042Z",
     "shell.execute_reply": "2023-04-19T12:09:55.137879Z",
     "shell.execute_reply.started": "2023-04-19T12:09:55.137861Z"
    },
    "tags": []
   },
   "outputs": [],
   "source": [
    "pos_word_plot = word_pos.plot_image(picks='O1');\n",
    "pos_word_plot = word_neg.plot_image(picks='O1');"
   ]
  },
  {
   "cell_type": "code",
   "execution_count": null,
   "metadata": {
    "execution": {
     "iopub.status.busy": "2023-04-19T12:09:55.139558Z",
     "iopub.status.idle": "2023-04-19T12:09:55.139959Z",
     "shell.execute_reply": "2023-04-19T12:09:55.139804Z",
     "shell.execute_reply.started": "2023-04-19T12:09:55.139786Z"
    },
    "tags": []
   },
   "outputs": [],
   "source": [
    "pos_word_plot[0]"
   ]
  },
  {
   "cell_type": "code",
   "execution_count": null,
   "metadata": {},
   "outputs": [],
   "source": []
  },
  {
   "cell_type": "code",
   "execution_count": null,
   "metadata": {},
   "outputs": [],
   "source": []
  },
  {
   "cell_type": "code",
   "execution_count": null,
   "metadata": {},
   "outputs": [],
   "source": []
  },
  {
   "cell_type": "code",
   "execution_count": null,
   "metadata": {},
   "outputs": [],
   "source": []
  },
  {
   "cell_type": "code",
   "execution_count": null,
   "metadata": {},
   "outputs": [],
   "source": []
  }
 ],
 "metadata": {
  "kernelspec": {
   "display_name": "Python 3 ",
   "language": "python",
   "name": "python3"
  },
  "language_info": {
   "codemirror_mode": {
    "name": "ipython",
    "version": 3
   },
   "file_extension": ".py",
   "mimetype": "text/x-python",
   "name": "python",
   "nbconvert_exporter": "python",
   "pygments_lexer": "ipython3",
   "version": "3.9.12"
  }
 },
 "nbformat": 4,
 "nbformat_minor": 4
}
